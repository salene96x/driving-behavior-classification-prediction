{
 "cells": [
  {
   "cell_type": "code",
   "execution_count": 1,
   "metadata": {},
   "outputs": [],
   "source": [
    "%load_ext autoreload\n",
    "%autoreload 2"
   ]
  },
  {
   "cell_type": "code",
   "execution_count": 5,
   "metadata": {},
   "outputs": [],
   "source": [
    "import sys\n",
    "sys.path.insert(0, '/Users/salene/Documents/GitHub/driving-behavior-classification-prediction/scripts')"
   ]
  },
  {
   "cell_type": "markdown",
   "metadata": {},
   "source": [
    "# Monte Carlo Simulation with Predictive Modeling"
   ]
  },
  {
   "cell_type": "code",
   "execution_count": 3,
   "metadata": {},
   "outputs": [
    {
     "name": "stdout",
     "output_type": "stream",
     "text": [
      "Requirement already satisfied: xgboost in /opt/homebrew/anaconda3/lib/python3.9/site-packages (1.7.3)\n",
      "Requirement already satisfied: numpy in /opt/homebrew/anaconda3/lib/python3.9/site-packages (from xgboost) (1.21.5)\n",
      "Requirement already satisfied: scipy in /opt/homebrew/anaconda3/lib/python3.9/site-packages (from xgboost) (1.9.1)\n"
     ]
    }
   ],
   "source": [
    "!pip3 install xgboost"
   ]
  },
  {
   "cell_type": "code",
   "execution_count": 28,
   "metadata": {},
   "outputs": [],
   "source": [
    "import monte_carlo_simulation as mcs\n",
    "import pandas as pd\n",
    "from sklearn.ensemble import RandomForestClassifier"
   ]
  },
  {
   "cell_type": "code",
   "execution_count": 29,
   "metadata": {},
   "outputs": [
    {
     "name": "stdout",
     "output_type": "stream",
     "text": [
      "--------------------------------------------------\n",
      "          Running at sample number -> 1           \n",
      "        Models to train XGB, RFClassifier         \n",
      "Recall score for sample #1     (XGB)   =        1.0\n",
      "Precision score for sample #1  (XGB)   =        1.0\n",
      "F1 score for sample #1         (XGB)   =        1.0\n",
      "Accuracy score for sample #1   (XGB)   =        1.0\n",
      "Recall score for sample #1     (RF)    =        1.0\n",
      "Precision score for sample #1  (RF)    =        1.0\n",
      "F1 score for sample #1         (RF)    =        1.0\n",
      "Accuracy score for sample #1   (RF)    =        1.0\n",
      "--------------------------------------------------\n",
      "--------------------------------------------------\n",
      "          Running at sample number -> 2           \n",
      "        Models to train XGB, RFClassifier         \n",
      "Recall score for sample #2     (XGB)   =        1.0\n",
      "Precision score for sample #2  (XGB)   =        1.0\n",
      "F1 score for sample #2         (XGB)   =        1.0\n",
      "Accuracy score for sample #2   (XGB)   =        1.0\n",
      "Recall score for sample #2     (RF)    =        1.0\n",
      "Precision score for sample #2  (RF)    =        1.0\n",
      "F1 score for sample #2         (RF)    =        1.0\n",
      "Accuracy score for sample #2   (RF)    =        1.0\n",
      "--------------------------------------------------\n",
      "--------------------------------------------------\n",
      "          Running at sample number -> 3           \n",
      "        Models to train XGB, RFClassifier         \n",
      "Recall score for sample #3     (XGB)   =        1.0\n",
      "Precision score for sample #3  (XGB)   =        1.0\n",
      "F1 score for sample #3         (XGB)   =        1.0\n",
      "Accuracy score for sample #3   (XGB)   =        1.0\n",
      "Recall score for sample #3     (RF)    =        1.0\n",
      "Precision score for sample #3  (RF)    =        1.0\n",
      "F1 score for sample #3         (RF)    =        1.0\n",
      "Accuracy score for sample #3   (RF)    =        1.0\n",
      "--------------------------------------------------\n",
      "--------------------------------------------------\n",
      "          Running at sample number -> 4           \n",
      "        Models to train XGB, RFClassifier         \n",
      "Recall score for sample #4     (XGB)   =        1.0\n",
      "Precision score for sample #4  (XGB)   =        1.0\n",
      "F1 score for sample #4         (XGB)   =        1.0\n",
      "Accuracy score for sample #4   (XGB)   =        1.0\n",
      "Recall score for sample #4     (RF)    =        1.0\n",
      "Precision score for sample #4  (RF)    =        1.0\n",
      "F1 score for sample #4         (RF)    =        1.0\n",
      "Accuracy score for sample #4   (RF)    =        1.0\n",
      "--------------------------------------------------\n",
      "--------------------------------------------------\n",
      "          Running at sample number -> 5           \n",
      "        Models to train XGB, RFClassifier         \n",
      "Recall score for sample #5     (XGB)   =        1.0\n",
      "Precision score for sample #5  (XGB)   =        1.0\n",
      "F1 score for sample #5         (XGB)   =        1.0\n",
      "Accuracy score for sample #5   (XGB)   =        1.0\n",
      "Recall score for sample #5     (RF)    =        1.0\n",
      "Precision score for sample #5  (RF)    =        1.0\n",
      "F1 score for sample #5         (RF)    =        1.0\n",
      "Accuracy score for sample #5   (RF)    =        1.0\n",
      "--------------------------------------------------\n",
      "--------------------------------------------------\n",
      "          Running at sample number -> 6           \n",
      "        Models to train XGB, RFClassifier         \n",
      "Recall score for sample #6     (XGB)   =        1.0\n",
      "Precision score for sample #6  (XGB)   =        1.0\n",
      "F1 score for sample #6         (XGB)   =        1.0\n",
      "Accuracy score for sample #6   (XGB)   =        1.0\n",
      "Recall score for sample #6     (RF)    =        1.0\n",
      "Precision score for sample #6  (RF)    =        1.0\n",
      "F1 score for sample #6         (RF)    =        1.0\n",
      "Accuracy score for sample #6   (RF)    =        1.0\n",
      "--------------------------------------------------\n",
      "--------------------------------------------------\n",
      "          Running at sample number -> 7           \n",
      "        Models to train XGB, RFClassifier         \n",
      "Recall score for sample #7     (XGB)   =        1.0\n",
      "Precision score for sample #7  (XGB)   =        1.0\n",
      "F1 score for sample #7         (XGB)   =        1.0\n",
      "Accuracy score for sample #7   (XGB)   =        1.0\n",
      "Recall score for sample #7     (RF)    =        1.0\n",
      "Precision score for sample #7  (RF)    =        1.0\n",
      "F1 score for sample #7         (RF)    =        1.0\n",
      "Accuracy score for sample #7   (RF)    =        1.0\n",
      "--------------------------------------------------\n",
      "--------------------------------------------------\n",
      "          Running at sample number -> 8           \n",
      "        Models to train XGB, RFClassifier         \n",
      "Recall score for sample #8     (XGB)   =        1.0\n",
      "Precision score for sample #8  (XGB)   =        1.0\n",
      "F1 score for sample #8         (XGB)   =        1.0\n",
      "Accuracy score for sample #8   (XGB)   =        1.0\n",
      "Recall score for sample #8     (RF)    =        1.0\n",
      "Precision score for sample #8  (RF)    =        1.0\n",
      "F1 score for sample #8         (RF)    =        1.0\n",
      "Accuracy score for sample #8   (RF)    =        1.0\n",
      "--------------------------------------------------\n",
      "--------------------------------------------------\n",
      "          Running at sample number -> 9           \n",
      "        Models to train XGB, RFClassifier         \n",
      "Recall score for sample #9     (XGB)   =        1.0\n",
      "Precision score for sample #9  (XGB)   =        1.0\n",
      "F1 score for sample #9         (XGB)   =        1.0\n",
      "Accuracy score for sample #9   (XGB)   =        1.0\n",
      "Recall score for sample #9     (RF)    =        1.0\n",
      "Precision score for sample #9  (RF)    =        1.0\n",
      "F1 score for sample #9         (RF)    =        1.0\n",
      "Accuracy score for sample #9   (RF)    =        1.0\n",
      "--------------------------------------------------\n",
      "--------------------------------------------------\n",
      "          Running at sample number -> 10          \n",
      "        Models to train XGB, RFClassifier         \n",
      "Recall score for sample #10     (XGB)   =        1.0\n",
      "Precision score for sample #10  (XGB)   =        1.0\n",
      "F1 score for sample #10         (XGB)   =        1.0\n",
      "Accuracy score for sample #10   (XGB)   =        1.0\n",
      "Recall score for sample #10     (RF)    =        1.0\n",
      "Precision score for sample #10  (RF)    =        1.0\n",
      "F1 score for sample #10         (RF)    =        1.0\n",
      "Accuracy score for sample #10   (RF)    =        1.0\n",
      "--------------------------------------------------\n",
      "Recalls: [1. 1. 1. 1. 1. 1. 1. 1. 1. 1. 1. 1. 1. 1. 1. 1. 1. 1. 1. 1.]\n",
      "Accuracies: [1. 1. 1. 1. 1. 1. 1. 1. 1. 1. 1. 1. 1. 1. 1. 1. 1. 1. 1. 1.]\n",
      "F1s: [1. 1. 1. 1. 1. 1. 1. 1. 1. 1. 1. 1. 1. 1. 1. 1. 1. 1. 1. 1.]\n",
      "Precisions: [1. 1. 1. 1. 1. 1. 1. 1. 1. 1. 1. 1. 1. 1. 1. 1. 1. 1. 1. 1.]\n",
      "Mean Recalls: 1.0\n",
      "Mean accuracy: 1.0\n",
      "Mean F1: 1.0\n",
      "Mean Precision: 1.0\n",
      "Standard deviation (Recall): 0.0\n",
      "Standard deviation (Acc): 0.0\n",
      "Standard deviation (F1): 0.0\n",
      "Standard deviation (Precision): 0.0\n",
      "Recall : 0.10376134889753567\n",
      "Accuracy : 0.311284046692607\n",
      "Precision : 0.3333333333333333\n",
      "F1 : 0.15825914935707222\n"
     ]
    },
    {
     "name": "stderr",
     "output_type": "stream",
     "text": [
      "/opt/homebrew/anaconda3/lib/python3.9/site-packages/sklearn/metrics/_classification.py:1327: UndefinedMetricWarning: Recall is ill-defined and being set to 0.0 in labels with no true samples. Use `zero_division` parameter to control this behavior.\n",
      "  _warn_prf(average, modifier, msg_start, len(result))\n"
     ]
    }
   ],
   "source": [
    "import numpy as np\n",
    "data = pd.read_csv(\"/Users/salene/Documents/GitHub/driving-behavior-classification-prediction/datasets/driving-behavior/train_motion_data.csv\")\n",
    "test = pd.read_csv(\"/Users/salene/Documents/GitHub/driving-behavior-classification-prediction//datasets/driving-behavior/test_motion_data.csv\")\n",
    "#features = [\"AccX\", \"AccY\", \"AccZ\", \"GyroX\", \"GyroY\", 'GyroZ']\n",
    "df = pd.read_csv('/Users/salene/Documents/GitHub/driving-behavior-classification-prediction/datasets/driving-behavior/train_motion_data.csv')\n",
    "target_col = 'Class'\n",
    "mcs_ = mcs.MonteCarloSimulation(df, target_col, n_splits=10)\n",
    "mcs_.run_simulation()\n",
    "acc, recall, f1, precision = mcs_.get_results()\n",
    "print('Recalls:', recall)\n",
    "print('Accuracies:', acc)\n",
    "print('F1s:', f1)\n",
    "print('Precisions:', precision)\n",
    "print('Mean Recalls:', np.mean(recall))\n",
    "print('Mean accuracy:', np.mean(acc))\n",
    "print('Mean F1:', np.mean(f1))\n",
    "print('Mean Precision:', np.mean(precision))\n",
    "print('Standard deviation (Recall):', np.std(recall))\n",
    "print('Standard deviation (Acc):', np.std(acc))\n",
    "print('Standard deviation (F1):', np.std(f1))\n",
    "print('Standard deviation (Precision):', np.std(precision))\n",
    "mcs_.validate_best_model()"
   ]
  },
  {
   "cell_type": "markdown",
   "metadata": {},
   "source": [
    "# Monte Carlo Simulation with Statistic tests"
   ]
  },
  {
   "cell_type": "code",
   "execution_count": 12,
   "metadata": {},
   "outputs": [
    {
     "name": "stdout",
     "output_type": "stream",
     "text": [
      "Original class distribution:\n",
      "        Class  count\n",
      "0  AGGRESSIVE   1113\n",
      "1      NORMAL   1200\n",
      "2        SLOW   1331\n",
      "Sample class distribution:\n",
      "        Class  count\n",
      "0  AGGRESSIVE    814\n",
      "1      NORMAL    997\n",
      "2        SLOW   1273\n",
      "Original cross-tabulation:\n",
      "AccX       -4.636523 -4.132884 -3.737336 -3.685861 -3.651794 -3.587720  \\\n",
      "AccY       -1.916268 -0.658270 -0.186343 -3.272373 -0.999508  1.226202   \n",
      "AccZ        0.148746 -0.022721  1.901035 -1.069261 -3.353661  0.095670   \n",
      "GyroX      -0.706618 -0.009621  0.002596 -0.037721 -0.045662 -0.055436   \n",
      "GyroY      -1.587028 -0.119119  0.100182  0.064141  0.176540  0.051313   \n",
      "GyroZ      -0.901103  0.117210  0.232663  0.145920  0.034743  0.183794   \n",
      "Class                                                                    \n",
      "AGGRESSIVE         0         1         1         1         1         1   \n",
      "NORMAL             0         0         0         0         0         0   \n",
      "SLOW               1         0         0         0         0         0   \n",
      "\n",
      "AccX       -3.287811 -3.192064 -3.168629 -3.019597  ...  3.712685  3.756986  \\\n",
      "AccY        0.135838  0.482266 -0.311325 -0.982136  ... -0.521762  3.650834   \n",
      "AccZ       -0.247774  0.545063  0.833239 -0.468178  ... -0.289570  2.110751   \n",
      "GyroX       0.025198  0.034972  0.044746  0.136376  ... -0.013897 -0.003512   \n",
      "GyroY       0.005498  0.050091  0.065363  0.044593  ...  0.087965 -0.244346   \n",
      "GyroZ       0.116599  0.220446  0.202731  0.150197  ... -0.204105  0.137979   \n",
      "Class                                               ...                       \n",
      "AGGRESSIVE         1         1         1         1  ...         1         0   \n",
      "NORMAL             0         0         0         0  ...         0         1   \n",
      "SLOW               0         0         0         0  ...         0         0   \n",
      "\n",
      "AccX        3.798095  3.804846  3.896463  4.079687  4.157132  4.832373  \\\n",
      "AccY       -0.264656  0.898716 -1.365475  0.825736  1.508025 -0.053588   \n",
      "AccZ       -3.335681  1.774262 -1.279088  0.393228 -0.559471 -0.719933   \n",
      "GyroX      -0.051771 -0.026725 -0.091477 -0.153174 -0.109192  0.033139   \n",
      "GyroY       0.151495  0.196699  0.088575  0.052534 -0.326202  0.048869   \n",
      "GyroZ      -0.513203 -0.281685 -0.324446 -0.186390 -0.271301 -0.231594   \n",
      "Class                                                                    \n",
      "AGGRESSIVE         1         1         1         1         1         1   \n",
      "NORMAL             0         0         0         0         0         0   \n",
      "SLOW               0         0         0         0         0         0   \n",
      "\n",
      "AccX        4.933154  4.985548  \n",
      "AccY       -2.946080  0.776671  \n",
      "AccZ       -0.521562  0.119044  \n",
      "GyroX       0.226784 -0.125075  \n",
      "GyroY      -1.290758 -0.014661  \n",
      "GyroZ      -0.309174 -0.158290  \n",
      "Class                           \n",
      "AGGRESSIVE         1         1  \n",
      "NORMAL             0         0  \n",
      "SLOW               0         0  \n",
      "\n",
      "[3 rows x 3644 columns]\n",
      "Sample cross-tabulation:\n",
      "AccX       -4.854163 -3.848977 -3.650441 -3.590072 -3.528721 -3.396221  \\\n",
      "AccY       -2.223592 -0.445886 -0.848013 -1.184469 -0.339366 -2.541273   \n",
      "AccZ       -0.462770  1.084942  0.311322 -1.747006 -0.605678  0.757715   \n",
      "GyroX       0.040317  0.006720 -0.049480  0.123395  0.023213 -0.015882   \n",
      "GyroY      -0.009545  0.041157 -0.010767 -0.078573  0.046655 -0.119501   \n",
      "GyroZ       0.211207  0.227089  0.156840  0.018784  0.322384  0.176998   \n",
      "Class                                                                    \n",
      "AGGRESSIVE         1         1         1         0         1         1   \n",
      "NORMAL             0         0         0         1         0         0   \n",
      "SLOW               0         0         0         0         0         0   \n",
      "\n",
      "AccX       -3.260025 -3.218288 -3.207422 -3.178716  ...  4.216361  4.313364  \\\n",
      "AccY       -1.804053 -0.007879  0.838457  0.258695  ... -0.206992 -1.236883   \n",
      "AccZ       -1.095742 -1.317644 -0.221020 -0.536516  ...  0.324836 -1.528112   \n",
      "GyroX       0.136223  0.061087  0.195477  0.113621  ... -0.123395  0.110567   \n",
      "GyroY       0.029551 -0.106672 -0.126831 -0.110948  ...  0.004505  0.930577   \n",
      "GyroZ       0.020006  0.061545  0.222813  0.034667  ... -0.198684  0.028558   \n",
      "Class                                               ...                       \n",
      "AGGRESSIVE         1         0         1         1  ...         1         1   \n",
      "NORMAL             0         1         0         0  ...         0         0   \n",
      "SLOW               0         0         0         0  ...         0         0   \n",
      "\n",
      "AccX        4.517738  4.815342  5.340670  5.388553  5.430286  5.703853  \\\n",
      "AccY       -0.401612 -0.814771  1.944195  1.211733 -1.485373  0.125805   \n",
      "AccZ       -3.821918  0.283557  1.968525 -0.520452 -1.236632 -2.055629   \n",
      "GyroX       0.000000 -0.075747  0.031765 -0.085521 -0.114232 -0.114843   \n",
      "GyroY      -0.076129 -0.034590 -0.088346  0.110796 -0.106672  0.014279   \n",
      "GyroZ      -0.296422 -0.200517 -0.179136 -0.278096 -0.077733 -0.237168   \n",
      "Class                                                                    \n",
      "AGGRESSIVE         1         1         1         1         1         1   \n",
      "NORMAL             0         0         0         0         0         0   \n",
      "SLOW               0         0         0         0         0         0   \n",
      "\n",
      "AccX        5.817379  5.864980  \n",
      "AccY       -0.778241  0.594522  \n",
      "AccZ       -0.956269  0.319388  \n",
      "GyroX      -0.136223  0.105069  \n",
      "GyroY      -0.209298  0.388739  \n",
      "GyroZ      -0.341626 -0.318414  \n",
      "Class                           \n",
      "AGGRESSIVE         1         1  \n",
      "NORMAL             0         0  \n",
      "SLOW               0         0  \n",
      "\n",
      "[3 rows x 3084 columns]\n",
      "Original entropy: 1.581055421821978\n",
      "Sample entropy: 1.5608266781335316\n"
     ]
    }
   ],
   "source": [
    "import pandas as pd\n",
    "import numpy as np\n",
    "\n",
    "df = pd.read_csv(\"/Users/salene/Documents/GitHub/driving-behavior-classification-prediction/datasets/driving-behavior/train_motion_data.csv\")\n",
    "sample_df = pd.read_csv(\"/Users/salene/Documents/GitHub/driving-behavior-classification-prediction/datasets/driving-behavior/test_motion_data.csv\")\n",
    "# Load the original dataset into a Pandas DataFrame\n",
    "#df = pd.read_csv(\"original_dataset.csv\")\n",
    "\n",
    "# Load the sample dataset into a Pandas DataFrame\n",
    "#sample_df = pd.read_csv(\"sample_dataset.csv\")\n",
    "\n",
    "# Class distribution\n",
    "original_class_dist = df.groupby(\"Class\").size().reset_index(name='count')\n",
    "sample_class_dist = sample_df.groupby(\"Class\").size().reset_index(name='count')\n",
    "\n",
    "print(\"Original class distribution:\")\n",
    "print(original_class_dist)\n",
    "\n",
    "print(\"Sample class distribution:\")\n",
    "print(sample_class_dist)\n",
    "\n",
    "# Cross-tabulation\n",
    "original_cross_tab = pd.crosstab(index=df[\"Class\"], columns=[df[\"AccX\"], df['AccY'], df['AccZ'], df['GyroX'], df['GyroY'], df['GyroZ']])\n",
    "sample_cross_tab = pd.crosstab(index=sample_df[\"Class\"], columns=[sample_df[\"AccX\"], sample_df['AccY'], sample_df['AccZ'], sample_df['GyroX'], sample_df['GyroY'], sample_df['GyroZ']])\n",
    "\n",
    "print(\"Original cross-tabulation:\")\n",
    "print(original_cross_tab)\n",
    "\n",
    "print(\"Sample cross-tabulation:\")\n",
    "print(sample_cross_tab)\n",
    "\n",
    "# Entropy\n",
    "total_observations = len(df)\n",
    "class_probabilities = df.groupby(\"Class\").size() / total_observations\n",
    "class_entropy = -np.sum(class_probabilities * np.log2(class_probabilities))\n",
    "\n",
    "print(\"Original entropy:\", class_entropy)\n",
    "\n",
    "total_sample_observations = len(sample_df)\n",
    "sample_class_probabilities = sample_df.groupby(\"Class\").size() / total_sample_observations\n",
    "sample_class_entropy = -np.sum(sample_class_probabilities * np.log2(sample_class_probabilities))\n",
    "\n",
    "print(\"Sample entropy:\", sample_class_entropy)\n"
   ]
  },
  {
   "cell_type": "code",
   "execution_count": 14,
   "metadata": {},
   "outputs": [
    {
     "name": "stdout",
     "output_type": "stream",
     "text": [
      "Chi-square test statistic: 19.969849192106985\n",
      "p-value: 0.000046\n",
      "Reject null hypothesis: The class distributions are not independent.\n"
     ]
    }
   ],
   "source": [
    "from scipy.stats import chi2_contingency\n",
    "import numpy as np\n",
    "\n",
    "# Original class distribution\n",
    "original_counts = original_class_dist['count']\n",
    "\n",
    "# Sample class distribution\n",
    "sample_counts = sample_class_dist['count']\n",
    "\n",
    "# Create 2D contingency table from the counts\n",
    "contingency_table = np.array([original_counts, sample_counts])\n",
    "\n",
    "# Perform chi-square test\n",
    "chi2, p, dof, expected = chi2_contingency(contingency_table)\n",
    "\n",
    "# Print results\n",
    "print(\"Chi-square test statistic:\", chi2)\n",
    "print(\"p-value:\", format(p, 'f'))\n",
    "\n",
    "# Conclusion\n",
    "if p < 0.05:\n",
    "    print(\"Reject null hypothesis: The class distributions are not independent.\")\n",
    "else:\n",
    "    print(\"Fail to reject null hypothesis: The class distributions are independent.\")\n"
   ]
  },
  {
   "cell_type": "code",
   "execution_count": 16,
   "metadata": {},
   "outputs": [
    {
     "data": {
      "text/html": [
       "<div>\n",
       "<style scoped>\n",
       "    .dataframe tbody tr th:only-of-type {\n",
       "        vertical-align: middle;\n",
       "    }\n",
       "\n",
       "    .dataframe tbody tr th {\n",
       "        vertical-align: top;\n",
       "    }\n",
       "\n",
       "    .dataframe thead th {\n",
       "        text-align: right;\n",
       "    }\n",
       "</style>\n",
       "<table border=\"1\" class=\"dataframe\">\n",
       "  <thead>\n",
       "    <tr style=\"text-align: right;\">\n",
       "      <th></th>\n",
       "      <th>AccX</th>\n",
       "      <th>AccY</th>\n",
       "      <th>AccZ</th>\n",
       "      <th>GyroX</th>\n",
       "      <th>GyroY</th>\n",
       "      <th>GyroZ</th>\n",
       "      <th>Class</th>\n",
       "      <th>Timestamp</th>\n",
       "    </tr>\n",
       "  </thead>\n",
       "  <tbody>\n",
       "    <tr>\n",
       "      <th>3084</th>\n",
       "      <td>-0.627656</td>\n",
       "      <td>-0.339245</td>\n",
       "      <td>-0.840368</td>\n",
       "      <td>0.020311</td>\n",
       "      <td>-0.065973</td>\n",
       "      <td>0.014584</td>\n",
       "      <td>SLOW</td>\n",
       "      <td>3583490</td>\n",
       "    </tr>\n",
       "    <tr>\n",
       "      <th>3406</th>\n",
       "      <td>-0.285546</td>\n",
       "      <td>-0.073166</td>\n",
       "      <td>0.764932</td>\n",
       "      <td>0.009927</td>\n",
       "      <td>-0.022602</td>\n",
       "      <td>-0.025122</td>\n",
       "      <td>SLOW</td>\n",
       "      <td>3583664</td>\n",
       "    </tr>\n",
       "    <tr>\n",
       "      <th>3356</th>\n",
       "      <td>-0.005680</td>\n",
       "      <td>-0.815902</td>\n",
       "      <td>1.148441</td>\n",
       "      <td>0.007483</td>\n",
       "      <td>0.012217</td>\n",
       "      <td>0.040852</td>\n",
       "      <td>SLOW</td>\n",
       "      <td>3583637</td>\n",
       "    </tr>\n",
       "    <tr>\n",
       "      <th>343</th>\n",
       "      <td>-1.102886</td>\n",
       "      <td>-0.111111</td>\n",
       "      <td>0.381199</td>\n",
       "      <td>-0.010843</td>\n",
       "      <td>0.011606</td>\n",
       "      <td>0.009697</td>\n",
       "      <td>NORMAL</td>\n",
       "      <td>3581814</td>\n",
       "    </tr>\n",
       "    <tr>\n",
       "      <th>3586</th>\n",
       "      <td>-0.706162</td>\n",
       "      <td>-0.047583</td>\n",
       "      <td>0.653164</td>\n",
       "      <td>0.008705</td>\n",
       "      <td>0.007330</td>\n",
       "      <td>-0.003742</td>\n",
       "      <td>SLOW</td>\n",
       "      <td>3583761</td>\n",
       "    </tr>\n",
       "  </tbody>\n",
       "</table>\n",
       "</div>"
      ],
      "text/plain": [
       "          AccX      AccY      AccZ     GyroX     GyroY     GyroZ   Class  \\\n",
       "3084 -0.627656 -0.339245 -0.840368  0.020311 -0.065973  0.014584    SLOW   \n",
       "3406 -0.285546 -0.073166  0.764932  0.009927 -0.022602 -0.025122    SLOW   \n",
       "3356 -0.005680 -0.815902  1.148441  0.007483  0.012217  0.040852    SLOW   \n",
       "343  -1.102886 -0.111111  0.381199 -0.010843  0.011606  0.009697  NORMAL   \n",
       "3586 -0.706162 -0.047583  0.653164  0.008705  0.007330 -0.003742    SLOW   \n",
       "\n",
       "      Timestamp  \n",
       "3084    3583490  \n",
       "3406    3583664  \n",
       "3356    3583637  \n",
       "343     3581814  \n",
       "3586    3583761  "
      ]
     },
     "execution_count": 16,
     "metadata": {},
     "output_type": "execute_result"
    }
   ],
   "source": [
    "df.sample(5)"
   ]
  },
  {
   "cell_type": "code",
   "execution_count": null,
   "metadata": {},
   "outputs": [],
   "source": [
    "from pyspark.sql import SparkSession\n",
    "from pyspark.sql.functions import col, sum, count, log2\n",
    "\n",
    "# Create a Spark session\n",
    "spark = SparkSession.builder.appName(\"Representativeness\").getOrCreate()\n",
    "\n",
    "# Load the original dataset into a Spark DataFrame\n",
    "df = spark.read.csv(\"original_dataset.csv\", header=True, inferSchema=True)\n",
    "\n",
    "# Load the sample dataset into a Spark DataFrame\n",
    "sample_df = spark.read.csv(\"sample_dataset.csv\", header=True, inferSchema=True)\n",
    "\n",
    "# Class distribution\n",
    "original_class_dist = df.groupBy(\"class_col\").agg(count(\"*\").alias(\"count\")).sort(\"class_col\")\n",
    "sample_class_dist = sample_df.groupBy(\"class_col\").agg(count(\"*\").alias(\"count\")).sort(\"class_col\")\n",
    "\n",
    "print(\"Original class distribution:\")\n",
    "original_class_dist.show()\n",
    "\n",
    "print(\"Sample class distribution:\")\n",
    "sample_class_dist.show()\n",
    "\n",
    "# Cross-tabulation\n",
    "original_cross_tab = df.groupBy(\"class_col\", \"feature_col\").agg(count(\"*\").alias(\"count\"))\n",
    "sample_cross_tab = sample_df.groupBy(\"class_col\", \"feature_col\").agg(count(\"*\").alias(\"count\"))\n",
    "\n",
    "print(\"Original cross-tabulation:\")\n",
    "original_cross_tab.show()\n",
    "\n",
    "print(\"Sample cross-tabulation:\")\n",
    "sample_cross_tab.show()\n",
    "\n",
    "# Entropy\n",
    "total_observations = df.count()\n",
    "class_entropy = df.groupBy(\"class_col\").agg(count(\"*\").alias(\"count\")).agg(sum(log2(col(\"count\")/total_observations)*(-col(\"count\")/total_observations))).collect()[0][0]\n",
    "\n",
    "print(\"Original entropy:\", class_entropy)\n",
    "\n",
    "total_sample_observations = sample_df.count()\n",
    "sample_class_entropy = sample_df.groupBy(\"class_col\").agg(count(\"*\").alias(\"count\")).agg(sum(log2(col(\"count\")/total_sample_observations)*(-col(\"count\")/total_sample_observations))).collect()[0][0]\n",
    "\n",
    "print(\"Sample entropy:\", sample_class_entropy)\n",
    "\n",
    "# Stop the Spark session\n",
    "spark.stop()\n"
   ]
  },
  {
   "cell_type": "markdown",
   "metadata": {},
   "source": [
    "# Distribution Visualization"
   ]
  },
  {
   "cell_type": "code",
   "execution_count": 17,
   "metadata": {},
   "outputs": [],
   "source": [
    "from visualization import Visualization"
   ]
  },
  {
   "cell_type": "code",
   "execution_count": 19,
   "metadata": {},
   "outputs": [
    {
     "name": "stdout",
     "output_type": "stream",
     "text": [
      "Requirement already satisfied: seaborn in /opt/homebrew/anaconda3/lib/python3.9/site-packages (0.11.2)\n",
      "Requirement already satisfied: matplotlib>=2.2 in /opt/homebrew/anaconda3/lib/python3.9/site-packages (from seaborn) (3.5.2)\n",
      "Requirement already satisfied: numpy>=1.15 in /opt/homebrew/anaconda3/lib/python3.9/site-packages (from seaborn) (1.21.5)\n",
      "Requirement already satisfied: scipy>=1.0 in /opt/homebrew/anaconda3/lib/python3.9/site-packages (from seaborn) (1.9.1)\n",
      "Requirement already satisfied: pandas>=0.23 in /opt/homebrew/anaconda3/lib/python3.9/site-packages (from seaborn) (1.4.4)\n",
      "Requirement already satisfied: kiwisolver>=1.0.1 in /opt/homebrew/anaconda3/lib/python3.9/site-packages (from matplotlib>=2.2->seaborn) (1.4.2)\n",
      "Requirement already satisfied: python-dateutil>=2.7 in /opt/homebrew/anaconda3/lib/python3.9/site-packages (from matplotlib>=2.2->seaborn) (2.8.2)\n",
      "Requirement already satisfied: pillow>=6.2.0 in /opt/homebrew/anaconda3/lib/python3.9/site-packages (from matplotlib>=2.2->seaborn) (9.2.0)\n",
      "Requirement already satisfied: cycler>=0.10 in /opt/homebrew/anaconda3/lib/python3.9/site-packages (from matplotlib>=2.2->seaborn) (0.11.0)\n",
      "Requirement already satisfied: fonttools>=4.22.0 in /opt/homebrew/anaconda3/lib/python3.9/site-packages (from matplotlib>=2.2->seaborn) (4.25.0)\n",
      "Requirement already satisfied: pyparsing>=2.2.1 in /opt/homebrew/anaconda3/lib/python3.9/site-packages (from matplotlib>=2.2->seaborn) (3.0.9)\n",
      "Requirement already satisfied: packaging>=20.0 in /opt/homebrew/anaconda3/lib/python3.9/site-packages (from matplotlib>=2.2->seaborn) (21.3)\n",
      "Requirement already satisfied: pytz>=2020.1 in /opt/homebrew/anaconda3/lib/python3.9/site-packages (from pandas>=0.23->seaborn) (2022.1)\n",
      "Requirement already satisfied: six>=1.5 in /opt/homebrew/anaconda3/lib/python3.9/site-packages (from python-dateutil>=2.7->matplotlib>=2.2->seaborn) (1.16.0)\n",
      "Requirement already satisfied: matplotlib in /opt/homebrew/anaconda3/lib/python3.9/site-packages (3.5.2)\n",
      "Requirement already satisfied: pillow>=6.2.0 in /opt/homebrew/anaconda3/lib/python3.9/site-packages (from matplotlib) (9.2.0)\n",
      "Requirement already satisfied: packaging>=20.0 in /opt/homebrew/anaconda3/lib/python3.9/site-packages (from matplotlib) (21.3)\n",
      "Requirement already satisfied: python-dateutil>=2.7 in /opt/homebrew/anaconda3/lib/python3.9/site-packages (from matplotlib) (2.8.2)\n",
      "Requirement already satisfied: cycler>=0.10 in /opt/homebrew/anaconda3/lib/python3.9/site-packages (from matplotlib) (0.11.0)\n",
      "Requirement already satisfied: numpy>=1.17 in /opt/homebrew/anaconda3/lib/python3.9/site-packages (from matplotlib) (1.21.5)\n",
      "Requirement already satisfied: pyparsing>=2.2.1 in /opt/homebrew/anaconda3/lib/python3.9/site-packages (from matplotlib) (3.0.9)\n",
      "Requirement already satisfied: fonttools>=4.22.0 in /opt/homebrew/anaconda3/lib/python3.9/site-packages (from matplotlib) (4.25.0)\n",
      "Requirement already satisfied: kiwisolver>=1.0.1 in /opt/homebrew/anaconda3/lib/python3.9/site-packages (from matplotlib) (1.4.2)\n",
      "Requirement already satisfied: six>=1.5 in /opt/homebrew/anaconda3/lib/python3.9/site-packages (from python-dateutil>=2.7->matplotlib) (1.16.0)\n",
      "Requirement already satisfied: numpy in /opt/homebrew/anaconda3/lib/python3.9/site-packages (1.21.5)\n"
     ]
    }
   ],
   "source": [
    "vis = Visualization(\"/Users/salene/Documents/GitHub/driving-behavior-classification-prediction/datasets/driving-behavior/train_motion_data.csv\", interpreter='Python', save=True)"
   ]
  },
  {
   "cell_type": "code",
   "execution_count": 20,
   "metadata": {},
   "outputs": [
    {
     "ename": "FileNotFoundError",
     "evalue": "[Errno 2] No such file or directory: '/usr/src/figs//output_distribution_297202.png'",
     "output_type": "error",
     "traceback": [
      "\u001b[0;31m---------------------------------------------------------------------------\u001b[0m",
      "\u001b[0;31mFileNotFoundError\u001b[0m                         Traceback (most recent call last)",
      "\u001b[1;32m/Users/salene/Documents/GitHub/driving-behavior-classification-prediction/notebooks/representative_testing.ipynb Cell 15\u001b[0m in \u001b[0;36m<cell line: 5>\u001b[0;34m()\u001b[0m\n\u001b[1;32m      <a href='vscode-notebook-cell:/Users/salene/Documents/GitHub/driving-behavior-classification-prediction/notebooks/representative_testing.ipynb#X16sZmlsZQ%3D%3D?line=0'>1</a>\u001b[0m param \u001b[39m=\u001b[39m {\n\u001b[1;32m      <a href='vscode-notebook-cell:/Users/salene/Documents/GitHub/driving-behavior-classification-prediction/notebooks/representative_testing.ipynb#X16sZmlsZQ%3D%3D?line=1'>2</a>\u001b[0m     \u001b[39m'\u001b[39m\u001b[39my\u001b[39m\u001b[39m'\u001b[39m : vis\u001b[39m.\u001b[39mdf[\u001b[39m'\u001b[39m\u001b[39mAccX\u001b[39m\u001b[39m'\u001b[39m],\n\u001b[1;32m      <a href='vscode-notebook-cell:/Users/salene/Documents/GitHub/driving-behavior-classification-prediction/notebooks/representative_testing.ipynb#X16sZmlsZQ%3D%3D?line=2'>3</a>\u001b[0m     \u001b[39m'\u001b[39m\u001b[39mx\u001b[39m\u001b[39m'\u001b[39m : vis\u001b[39m.\u001b[39mdf[\u001b[39m'\u001b[39m\u001b[39mClass\u001b[39m\u001b[39m'\u001b[39m]\n\u001b[1;32m      <a href='vscode-notebook-cell:/Users/salene/Documents/GitHub/driving-behavior-classification-prediction/notebooks/representative_testing.ipynb#X16sZmlsZQ%3D%3D?line=3'>4</a>\u001b[0m }\n\u001b[0;32m----> <a href='vscode-notebook-cell:/Users/salene/Documents/GitHub/driving-behavior-classification-prediction/notebooks/representative_testing.ipynb#X16sZmlsZQ%3D%3D?line=4'>5</a>\u001b[0m \u001b[39mprint\u001b[39m(vis\u001b[39m.\u001b[39;49mdistribution(param, graph_type\u001b[39m=\u001b[39;49m\u001b[39m'\u001b[39;49m\u001b[39mviolin\u001b[39;49m\u001b[39m'\u001b[39;49m))\n",
      "File \u001b[0;32m~/Documents/GitHub/driving-behavior-classification-prediction/scripts/visualization.py:55\u001b[0m, in \u001b[0;36mVisualization.distribution\u001b[0;34m(self, param, graph_type)\u001b[0m\n\u001b[1;32m     53\u001b[0m     graph \u001b[39m=\u001b[39m sns\u001b[39m.\u001b[39mviolinplot(data\u001b[39m=\u001b[39m\u001b[39mself\u001b[39m\u001b[39m.\u001b[39mdf, \u001b[39m*\u001b[39m\u001b[39m*\u001b[39mparam)\n\u001b[1;32m     54\u001b[0m \u001b[39mif\u001b[39;00m \u001b[39mself\u001b[39m\u001b[39m.\u001b[39mconfig \u001b[39m!=\u001b[39m \u001b[39mNone\u001b[39;00m \u001b[39mand\u001b[39;00m \u001b[39mself\u001b[39m\u001b[39m.\u001b[39mconfig[\u001b[39m'\u001b[39m\u001b[39msave\u001b[39m\u001b[39m'\u001b[39m] \u001b[39m==\u001b[39m \u001b[39mTrue\u001b[39;00m:\n\u001b[0;32m---> 55\u001b[0m     \u001b[39mself\u001b[39;49m\u001b[39m.\u001b[39;49msave(graph, \u001b[39mself\u001b[39;49m\u001b[39m.\u001b[39;49mconfig[\u001b[39m'\u001b[39;49m\u001b[39moutput\u001b[39;49m\u001b[39m'\u001b[39;49m], \u001b[39m'\u001b[39;49m\u001b[39mdistribution\u001b[39;49m\u001b[39m'\u001b[39;49m)\n\u001b[1;32m     56\u001b[0m \u001b[39mreturn\u001b[39;00m graph\n",
      "File \u001b[0;32m~/Documents/GitHub/driving-behavior-classification-prediction/scripts/visualization.py:83\u001b[0m, in \u001b[0;36mVisualization.save\u001b[0;34m(self, plot, output, plot_name)\u001b[0m\n\u001b[1;32m     82\u001b[0m \u001b[39mdef\u001b[39;00m \u001b[39msave\u001b[39m(\u001b[39mself\u001b[39m, plot, output, plot_name):\n\u001b[0;32m---> 83\u001b[0m     plt\u001b[39m.\u001b[39;49msavefig(\u001b[39mf\u001b[39;49m\u001b[39m'\u001b[39;49m\u001b[39m{\u001b[39;49;00moutput\u001b[39m}\u001b[39;49;00m\u001b[39m/output_\u001b[39;49m\u001b[39m{\u001b[39;49;00mplot_name\u001b[39m}\u001b[39;49;00m\u001b[39m_\u001b[39;49m\u001b[39m{\u001b[39;49;00mrandom\u001b[39m.\u001b[39;49mrandint(\u001b[39m0\u001b[39;49m, \u001b[39m999999\u001b[39;49m)\u001b[39m}\u001b[39;49;00m\u001b[39m.png\u001b[39;49m\u001b[39m'\u001b[39;49m)\n",
      "File \u001b[0;32m/opt/homebrew/anaconda3/lib/python3.9/site-packages/matplotlib/pyplot.py:979\u001b[0m, in \u001b[0;36msavefig\u001b[0;34m(*args, **kwargs)\u001b[0m\n\u001b[1;32m    976\u001b[0m \u001b[39m@_copy_docstring_and_deprecators\u001b[39m(Figure\u001b[39m.\u001b[39msavefig)\n\u001b[1;32m    977\u001b[0m \u001b[39mdef\u001b[39;00m \u001b[39msavefig\u001b[39m(\u001b[39m*\u001b[39margs, \u001b[39m*\u001b[39m\u001b[39m*\u001b[39mkwargs):\n\u001b[1;32m    978\u001b[0m     fig \u001b[39m=\u001b[39m gcf()\n\u001b[0;32m--> 979\u001b[0m     res \u001b[39m=\u001b[39m fig\u001b[39m.\u001b[39;49msavefig(\u001b[39m*\u001b[39;49margs, \u001b[39m*\u001b[39;49m\u001b[39m*\u001b[39;49mkwargs)\n\u001b[1;32m    980\u001b[0m     fig\u001b[39m.\u001b[39mcanvas\u001b[39m.\u001b[39mdraw_idle()   \u001b[39m# need this if 'transparent=True' to reset colors\u001b[39;00m\n\u001b[1;32m    981\u001b[0m     \u001b[39mreturn\u001b[39;00m res\n",
      "File \u001b[0;32m/opt/homebrew/anaconda3/lib/python3.9/site-packages/matplotlib/figure.py:3046\u001b[0m, in \u001b[0;36mFigure.savefig\u001b[0;34m(self, fname, transparent, **kwargs)\u001b[0m\n\u001b[1;32m   3042\u001b[0m     \u001b[39mfor\u001b[39;00m ax \u001b[39min\u001b[39;00m \u001b[39mself\u001b[39m\u001b[39m.\u001b[39maxes:\n\u001b[1;32m   3043\u001b[0m         stack\u001b[39m.\u001b[39menter_context(\n\u001b[1;32m   3044\u001b[0m             ax\u001b[39m.\u001b[39mpatch\u001b[39m.\u001b[39m_cm_set(facecolor\u001b[39m=\u001b[39m\u001b[39m'\u001b[39m\u001b[39mnone\u001b[39m\u001b[39m'\u001b[39m, edgecolor\u001b[39m=\u001b[39m\u001b[39m'\u001b[39m\u001b[39mnone\u001b[39m\u001b[39m'\u001b[39m))\n\u001b[0;32m-> 3046\u001b[0m \u001b[39mself\u001b[39;49m\u001b[39m.\u001b[39;49mcanvas\u001b[39m.\u001b[39;49mprint_figure(fname, \u001b[39m*\u001b[39;49m\u001b[39m*\u001b[39;49mkwargs)\n",
      "File \u001b[0;32m/opt/homebrew/anaconda3/lib/python3.9/site-packages/matplotlib/backend_bases.py:2319\u001b[0m, in \u001b[0;36mFigureCanvasBase.print_figure\u001b[0;34m(self, filename, dpi, facecolor, edgecolor, orientation, format, bbox_inches, pad_inches, bbox_extra_artists, backend, **kwargs)\u001b[0m\n\u001b[1;32m   2315\u001b[0m \u001b[39mtry\u001b[39;00m:\n\u001b[1;32m   2316\u001b[0m     \u001b[39m# _get_renderer may change the figure dpi (as vector formats\u001b[39;00m\n\u001b[1;32m   2317\u001b[0m     \u001b[39m# force the figure dpi to 72), so we need to set it again here.\u001b[39;00m\n\u001b[1;32m   2318\u001b[0m     \u001b[39mwith\u001b[39;00m cbook\u001b[39m.\u001b[39m_setattr_cm(\u001b[39mself\u001b[39m\u001b[39m.\u001b[39mfigure, dpi\u001b[39m=\u001b[39mdpi):\n\u001b[0;32m-> 2319\u001b[0m         result \u001b[39m=\u001b[39m print_method(\n\u001b[1;32m   2320\u001b[0m             filename,\n\u001b[1;32m   2321\u001b[0m             facecolor\u001b[39m=\u001b[39;49mfacecolor,\n\u001b[1;32m   2322\u001b[0m             edgecolor\u001b[39m=\u001b[39;49medgecolor,\n\u001b[1;32m   2323\u001b[0m             orientation\u001b[39m=\u001b[39;49morientation,\n\u001b[1;32m   2324\u001b[0m             bbox_inches_restore\u001b[39m=\u001b[39;49m_bbox_inches_restore,\n\u001b[1;32m   2325\u001b[0m             \u001b[39m*\u001b[39;49m\u001b[39m*\u001b[39;49mkwargs)\n\u001b[1;32m   2326\u001b[0m \u001b[39mfinally\u001b[39;00m:\n\u001b[1;32m   2327\u001b[0m     \u001b[39mif\u001b[39;00m bbox_inches \u001b[39mand\u001b[39;00m restore_bbox:\n",
      "File \u001b[0;32m/opt/homebrew/anaconda3/lib/python3.9/site-packages/matplotlib/backend_bases.py:1648\u001b[0m, in \u001b[0;36m_check_savefig_extra_args.<locals>.wrapper\u001b[0;34m(*args, **kwargs)\u001b[0m\n\u001b[1;32m   1640\u001b[0m     _api\u001b[39m.\u001b[39mwarn_deprecated(\n\u001b[1;32m   1641\u001b[0m         \u001b[39m'\u001b[39m\u001b[39m3.3\u001b[39m\u001b[39m'\u001b[39m, name\u001b[39m=\u001b[39mname, removal\u001b[39m=\u001b[39m\u001b[39m'\u001b[39m\u001b[39m3.6\u001b[39m\u001b[39m'\u001b[39m,\n\u001b[1;32m   1642\u001b[0m         message\u001b[39m=\u001b[39m\u001b[39m'\u001b[39m\u001b[39m%(name)s\u001b[39;00m\u001b[39m() got unexpected keyword argument \u001b[39m\u001b[39m\"\u001b[39m\u001b[39m'\u001b[39m\n\u001b[1;32m   1643\u001b[0m                 \u001b[39m+\u001b[39m arg \u001b[39m+\u001b[39m \u001b[39m'\u001b[39m\u001b[39m\"\u001b[39m\u001b[39m which is no longer supported as of \u001b[39m\u001b[39m'\u001b[39m\n\u001b[1;32m   1644\u001b[0m                 \u001b[39m'\u001b[39m\u001b[39m%(since)s\u001b[39;00m\u001b[39m and will become an error \u001b[39m\u001b[39m'\u001b[39m\n\u001b[1;32m   1645\u001b[0m                 \u001b[39m'\u001b[39m\u001b[39m%(removal)s\u001b[39;00m\u001b[39m'\u001b[39m)\n\u001b[1;32m   1646\u001b[0m     kwargs\u001b[39m.\u001b[39mpop(arg)\n\u001b[0;32m-> 1648\u001b[0m \u001b[39mreturn\u001b[39;00m func(\u001b[39m*\u001b[39;49margs, \u001b[39m*\u001b[39;49m\u001b[39m*\u001b[39;49mkwargs)\n",
      "File \u001b[0;32m/opt/homebrew/anaconda3/lib/python3.9/site-packages/matplotlib/_api/deprecation.py:415\u001b[0m, in \u001b[0;36mdelete_parameter.<locals>.wrapper\u001b[0;34m(*inner_args, **inner_kwargs)\u001b[0m\n\u001b[1;32m    405\u001b[0m     deprecation_addendum \u001b[39m=\u001b[39m (\n\u001b[1;32m    406\u001b[0m         \u001b[39mf\u001b[39m\u001b[39m\"\u001b[39m\u001b[39mIf any parameter follows \u001b[39m\u001b[39m{\u001b[39;00mname\u001b[39m!r}\u001b[39;00m\u001b[39m, they should be passed as \u001b[39m\u001b[39m\"\u001b[39m\n\u001b[1;32m    407\u001b[0m         \u001b[39mf\u001b[39m\u001b[39m\"\u001b[39m\u001b[39mkeyword, not positionally.\u001b[39m\u001b[39m\"\u001b[39m)\n\u001b[1;32m    408\u001b[0m     warn_deprecated(\n\u001b[1;32m    409\u001b[0m         since,\n\u001b[1;32m    410\u001b[0m         name\u001b[39m=\u001b[39m\u001b[39mrepr\u001b[39m(name),\n\u001b[0;32m   (...)\u001b[0m\n\u001b[1;32m    413\u001b[0m                  \u001b[39melse\u001b[39;00m deprecation_addendum,\n\u001b[1;32m    414\u001b[0m         \u001b[39m*\u001b[39m\u001b[39m*\u001b[39mkwargs)\n\u001b[0;32m--> 415\u001b[0m \u001b[39mreturn\u001b[39;00m func(\u001b[39m*\u001b[39;49minner_args, \u001b[39m*\u001b[39;49m\u001b[39m*\u001b[39;49minner_kwargs)\n",
      "File \u001b[0;32m/opt/homebrew/anaconda3/lib/python3.9/site-packages/matplotlib/backends/backend_agg.py:541\u001b[0m, in \u001b[0;36mFigureCanvasAgg.print_png\u001b[0;34m(self, filename_or_obj, metadata, pil_kwargs, *args)\u001b[0m\n\u001b[1;32m    494\u001b[0m \u001b[39m\"\"\"\u001b[39;00m\n\u001b[1;32m    495\u001b[0m \u001b[39mWrite the figure to a PNG file.\u001b[39;00m\n\u001b[1;32m    496\u001b[0m \n\u001b[0;32m   (...)\u001b[0m\n\u001b[1;32m    538\u001b[0m \u001b[39m    *metadata*, including the default 'Software' key.\u001b[39;00m\n\u001b[1;32m    539\u001b[0m \u001b[39m\"\"\"\u001b[39;00m\n\u001b[1;32m    540\u001b[0m FigureCanvasAgg\u001b[39m.\u001b[39mdraw(\u001b[39mself\u001b[39m)\n\u001b[0;32m--> 541\u001b[0m mpl\u001b[39m.\u001b[39;49mimage\u001b[39m.\u001b[39;49mimsave(\n\u001b[1;32m    542\u001b[0m     filename_or_obj, \u001b[39mself\u001b[39;49m\u001b[39m.\u001b[39;49mbuffer_rgba(), \u001b[39mformat\u001b[39;49m\u001b[39m=\u001b[39;49m\u001b[39m\"\u001b[39;49m\u001b[39mpng\u001b[39;49m\u001b[39m\"\u001b[39;49m, origin\u001b[39m=\u001b[39;49m\u001b[39m\"\u001b[39;49m\u001b[39mupper\u001b[39;49m\u001b[39m\"\u001b[39;49m,\n\u001b[1;32m    543\u001b[0m     dpi\u001b[39m=\u001b[39;49m\u001b[39mself\u001b[39;49m\u001b[39m.\u001b[39;49mfigure\u001b[39m.\u001b[39;49mdpi, metadata\u001b[39m=\u001b[39;49mmetadata, pil_kwargs\u001b[39m=\u001b[39;49mpil_kwargs)\n",
      "File \u001b[0;32m/opt/homebrew/anaconda3/lib/python3.9/site-packages/matplotlib/image.py:1675\u001b[0m, in \u001b[0;36mimsave\u001b[0;34m(fname, arr, vmin, vmax, cmap, format, origin, dpi, metadata, pil_kwargs)\u001b[0m\n\u001b[1;32m   1673\u001b[0m pil_kwargs\u001b[39m.\u001b[39msetdefault(\u001b[39m\"\u001b[39m\u001b[39mformat\u001b[39m\u001b[39m\"\u001b[39m, \u001b[39mformat\u001b[39m)\n\u001b[1;32m   1674\u001b[0m pil_kwargs\u001b[39m.\u001b[39msetdefault(\u001b[39m\"\u001b[39m\u001b[39mdpi\u001b[39m\u001b[39m\"\u001b[39m, (dpi, dpi))\n\u001b[0;32m-> 1675\u001b[0m image\u001b[39m.\u001b[39;49msave(fname, \u001b[39m*\u001b[39;49m\u001b[39m*\u001b[39;49mpil_kwargs)\n",
      "File \u001b[0;32m/opt/homebrew/anaconda3/lib/python3.9/site-packages/PIL/Image.py:2317\u001b[0m, in \u001b[0;36mImage.save\u001b[0;34m(self, fp, format, **params)\u001b[0m\n\u001b[1;32m   2315\u001b[0m         fp \u001b[39m=\u001b[39m builtins\u001b[39m.\u001b[39mopen(filename, \u001b[39m\"\u001b[39m\u001b[39mr+b\u001b[39m\u001b[39m\"\u001b[39m)\n\u001b[1;32m   2316\u001b[0m     \u001b[39melse\u001b[39;00m:\n\u001b[0;32m-> 2317\u001b[0m         fp \u001b[39m=\u001b[39m builtins\u001b[39m.\u001b[39;49mopen(filename, \u001b[39m\"\u001b[39;49m\u001b[39mw+b\u001b[39;49m\u001b[39m\"\u001b[39;49m)\n\u001b[1;32m   2319\u001b[0m \u001b[39mtry\u001b[39;00m:\n\u001b[1;32m   2320\u001b[0m     save_handler(\u001b[39mself\u001b[39m, fp, filename)\n",
      "\u001b[0;31mFileNotFoundError\u001b[0m: [Errno 2] No such file or directory: '/usr/src/figs//output_distribution_297202.png'"
     ]
    },
    {
     "data": {
      "image/png": "[encoded data removed]",
      "text/plain": [
       "<Figure size 640x480 with 1 Axes>"
      ]
     },
     "metadata": {},
     "output_type": "display_data"
    }
   ],
   "source": [
    "param = {\n",
    "    'y' : vis.df['AccX'],\n",
    "    'x' : vis.df['Class']\n",
    "}\n",
    "print(vis.distribution(param, graph_type='violin'))"
   ]
  },
  {
   "cell_type": "code",
   "execution_count": null,
   "metadata": {},
   "outputs": [],
   "source": [
    "param = {\n",
    "    'y' : vis.df['AccY'],\n",
    "    'x' : vis.df['Class']\n",
    "}\n",
    "print(vis.distribution(param, graph_type='violin'))"
   ]
  },
  {
   "cell_type": "code",
   "execution_count": null,
   "metadata": {},
   "outputs": [],
   "source": [
    "param = {\n",
    "    'y' : vis.df['AccZ'],\n",
    "    'x' : vis.df['Class']\n",
    "}\n",
    "print(vis.distribution(param, graph_type='violin'))"
   ]
  },
  {
   "cell_type": "code",
   "execution_count": null,
   "metadata": {},
   "outputs": [],
   "source": [
    "param = {\n",
    "    'y' : vis.df['GyroX'],\n",
    "    'x' : vis.df['Class']\n",
    "}\n",
    "print(vis.distribution(param, graph_type='violin'))"
   ]
  },
  {
   "cell_type": "code",
   "execution_count": null,
   "metadata": {},
   "outputs": [],
   "source": [
    "param = {\n",
    "    'y' : vis.df['GyroY'],\n",
    "    'x' : vis.df['Class']\n",
    "}\n",
    "print(vis.distribution(param, graph_type='violin'))"
   ]
  },
  {
   "cell_type": "code",
   "execution_count": null,
   "metadata": {},
   "outputs": [],
   "source": [
    "param = {\n",
    "    'y' : vis.df['GyroZ'],\n",
    "    'x' : vis.df['Class']\n",
    "}\n",
    "print(vis.distribution(param, graph_type='violin'))"
   ]
  },
  {
   "cell_type": "code",
   "execution_count": null,
   "metadata": {},
   "outputs": [],
   "source": [
    "param = {\n",
    "    'x': vis.df['AccX']\n",
    "}\n",
    "vis.probplot(param)"
   ]
  },
  {
   "cell_type": "code",
   "execution_count": null,
   "metadata": {},
   "outputs": [],
   "source": [
    "param = {\n",
    "    'x': vis.df['AccY']\n",
    "}\n",
    "vis.probplot(param)"
   ]
  },
  {
   "cell_type": "code",
   "execution_count": 21,
   "metadata": {},
   "outputs": [
    {
     "ename": "FileNotFoundError",
     "evalue": "[Errno 2] No such file or directory: '/usr/src/figs//output_probplot_364695.png'",
     "output_type": "error",
     "traceback": [
      "\u001b[0;31m---------------------------------------------------------------------------\u001b[0m",
      "\u001b[0;31mFileNotFoundError\u001b[0m                         Traceback (most recent call last)",
      "\u001b[1;32m/Users/salene/Documents/GitHub/driving-behavior-classification-prediction/notebooks/representative_testing.ipynb Cell 23\u001b[0m in \u001b[0;36m<cell line: 4>\u001b[0;34m()\u001b[0m\n\u001b[1;32m      <a href='vscode-notebook-cell:/Users/salene/Documents/GitHub/driving-behavior-classification-prediction/notebooks/representative_testing.ipynb#X30sZmlsZQ%3D%3D?line=0'>1</a>\u001b[0m param \u001b[39m=\u001b[39m {\n\u001b[1;32m      <a href='vscode-notebook-cell:/Users/salene/Documents/GitHub/driving-behavior-classification-prediction/notebooks/representative_testing.ipynb#X30sZmlsZQ%3D%3D?line=1'>2</a>\u001b[0m     \u001b[39m'\u001b[39m\u001b[39mx\u001b[39m\u001b[39m'\u001b[39m: vis\u001b[39m.\u001b[39mdf[\u001b[39m'\u001b[39m\u001b[39mAccZ\u001b[39m\u001b[39m'\u001b[39m]\n\u001b[1;32m      <a href='vscode-notebook-cell:/Users/salene/Documents/GitHub/driving-behavior-classification-prediction/notebooks/representative_testing.ipynb#X30sZmlsZQ%3D%3D?line=2'>3</a>\u001b[0m }\n\u001b[0;32m----> <a href='vscode-notebook-cell:/Users/salene/Documents/GitHub/driving-behavior-classification-prediction/notebooks/representative_testing.ipynb#X30sZmlsZQ%3D%3D?line=3'>4</a>\u001b[0m vis\u001b[39m.\u001b[39;49mprobplot(param)\n",
      "File \u001b[0;32m~/Documents/GitHub/driving-behavior-classification-prediction/scripts/visualization.py:75\u001b[0m, in \u001b[0;36mVisualization.probplot\u001b[0;34m(self, param)\u001b[0m\n\u001b[1;32m     73\u001b[0m     graph \u001b[39m=\u001b[39m scipy\u001b[39m.\u001b[39mstats\u001b[39m.\u001b[39mprobplot(plot\u001b[39m=\u001b[39mplt, \u001b[39m*\u001b[39m\u001b[39m*\u001b[39mparam)\n\u001b[1;32m     74\u001b[0m \u001b[39mif\u001b[39;00m \u001b[39mself\u001b[39m\u001b[39m.\u001b[39mconfig \u001b[39m!=\u001b[39m \u001b[39mNone\u001b[39;00m \u001b[39mand\u001b[39;00m \u001b[39mself\u001b[39m\u001b[39m.\u001b[39mconfig[\u001b[39m'\u001b[39m\u001b[39msave\u001b[39m\u001b[39m'\u001b[39m] \u001b[39m==\u001b[39m \u001b[39mTrue\u001b[39;00m:\n\u001b[0;32m---> 75\u001b[0m     \u001b[39mself\u001b[39;49m\u001b[39m.\u001b[39;49msave(graph, \u001b[39mself\u001b[39;49m\u001b[39m.\u001b[39;49mconfig[\u001b[39m'\u001b[39;49m\u001b[39moutput\u001b[39;49m\u001b[39m'\u001b[39;49m], \u001b[39m'\u001b[39;49m\u001b[39mprobplot\u001b[39;49m\u001b[39m'\u001b[39;49m)\n\u001b[1;32m     76\u001b[0m \u001b[39mreturn\u001b[39;00m graph\n",
      "File \u001b[0;32m~/Documents/GitHub/driving-behavior-classification-prediction/scripts/visualization.py:83\u001b[0m, in \u001b[0;36mVisualization.save\u001b[0;34m(self, plot, output, plot_name)\u001b[0m\n\u001b[1;32m     82\u001b[0m \u001b[39mdef\u001b[39;00m \u001b[39msave\u001b[39m(\u001b[39mself\u001b[39m, plot, output, plot_name):\n\u001b[0;32m---> 83\u001b[0m     plt\u001b[39m.\u001b[39;49msavefig(\u001b[39mf\u001b[39;49m\u001b[39m'\u001b[39;49m\u001b[39m{\u001b[39;49;00moutput\u001b[39m}\u001b[39;49;00m\u001b[39m/output_\u001b[39;49m\u001b[39m{\u001b[39;49;00mplot_name\u001b[39m}\u001b[39;49;00m\u001b[39m_\u001b[39;49m\u001b[39m{\u001b[39;49;00mrandom\u001b[39m.\u001b[39;49mrandint(\u001b[39m0\u001b[39;49m, \u001b[39m999999\u001b[39;49m)\u001b[39m}\u001b[39;49;00m\u001b[39m.png\u001b[39;49m\u001b[39m'\u001b[39;49m)\n",
      "File \u001b[0;32m/opt/homebrew/anaconda3/lib/python3.9/site-packages/matplotlib/pyplot.py:979\u001b[0m, in \u001b[0;36msavefig\u001b[0;34m(*args, **kwargs)\u001b[0m\n\u001b[1;32m    976\u001b[0m \u001b[39m@_copy_docstring_and_deprecators\u001b[39m(Figure\u001b[39m.\u001b[39msavefig)\n\u001b[1;32m    977\u001b[0m \u001b[39mdef\u001b[39;00m \u001b[39msavefig\u001b[39m(\u001b[39m*\u001b[39margs, \u001b[39m*\u001b[39m\u001b[39m*\u001b[39mkwargs):\n\u001b[1;32m    978\u001b[0m     fig \u001b[39m=\u001b[39m gcf()\n\u001b[0;32m--> 979\u001b[0m     res \u001b[39m=\u001b[39m fig\u001b[39m.\u001b[39;49msavefig(\u001b[39m*\u001b[39;49margs, \u001b[39m*\u001b[39;49m\u001b[39m*\u001b[39;49mkwargs)\n\u001b[1;32m    980\u001b[0m     fig\u001b[39m.\u001b[39mcanvas\u001b[39m.\u001b[39mdraw_idle()   \u001b[39m# need this if 'transparent=True' to reset colors\u001b[39;00m\n\u001b[1;32m    981\u001b[0m     \u001b[39mreturn\u001b[39;00m res\n",
      "File \u001b[0;32m/opt/homebrew/anaconda3/lib/python3.9/site-packages/matplotlib/figure.py:3046\u001b[0m, in \u001b[0;36mFigure.savefig\u001b[0;34m(self, fname, transparent, **kwargs)\u001b[0m\n\u001b[1;32m   3042\u001b[0m     \u001b[39mfor\u001b[39;00m ax \u001b[39min\u001b[39;00m \u001b[39mself\u001b[39m\u001b[39m.\u001b[39maxes:\n\u001b[1;32m   3043\u001b[0m         stack\u001b[39m.\u001b[39menter_context(\n\u001b[1;32m   3044\u001b[0m             ax\u001b[39m.\u001b[39mpatch\u001b[39m.\u001b[39m_cm_set(facecolor\u001b[39m=\u001b[39m\u001b[39m'\u001b[39m\u001b[39mnone\u001b[39m\u001b[39m'\u001b[39m, edgecolor\u001b[39m=\u001b[39m\u001b[39m'\u001b[39m\u001b[39mnone\u001b[39m\u001b[39m'\u001b[39m))\n\u001b[0;32m-> 3046\u001b[0m \u001b[39mself\u001b[39;49m\u001b[39m.\u001b[39;49mcanvas\u001b[39m.\u001b[39;49mprint_figure(fname, \u001b[39m*\u001b[39;49m\u001b[39m*\u001b[39;49mkwargs)\n",
      "File \u001b[0;32m/opt/homebrew/anaconda3/lib/python3.9/site-packages/matplotlib/backend_bases.py:2319\u001b[0m, in \u001b[0;36mFigureCanvasBase.print_figure\u001b[0;34m(self, filename, dpi, facecolor, edgecolor, orientation, format, bbox_inches, pad_inches, bbox_extra_artists, backend, **kwargs)\u001b[0m\n\u001b[1;32m   2315\u001b[0m \u001b[39mtry\u001b[39;00m:\n\u001b[1;32m   2316\u001b[0m     \u001b[39m# _get_renderer may change the figure dpi (as vector formats\u001b[39;00m\n\u001b[1;32m   2317\u001b[0m     \u001b[39m# force the figure dpi to 72), so we need to set it again here.\u001b[39;00m\n\u001b[1;32m   2318\u001b[0m     \u001b[39mwith\u001b[39;00m cbook\u001b[39m.\u001b[39m_setattr_cm(\u001b[39mself\u001b[39m\u001b[39m.\u001b[39mfigure, dpi\u001b[39m=\u001b[39mdpi):\n\u001b[0;32m-> 2319\u001b[0m         result \u001b[39m=\u001b[39m print_method(\n\u001b[1;32m   2320\u001b[0m             filename,\n\u001b[1;32m   2321\u001b[0m             facecolor\u001b[39m=\u001b[39;49mfacecolor,\n\u001b[1;32m   2322\u001b[0m             edgecolor\u001b[39m=\u001b[39;49medgecolor,\n\u001b[1;32m   2323\u001b[0m             orientation\u001b[39m=\u001b[39;49morientation,\n\u001b[1;32m   2324\u001b[0m             bbox_inches_restore\u001b[39m=\u001b[39;49m_bbox_inches_restore,\n\u001b[1;32m   2325\u001b[0m             \u001b[39m*\u001b[39;49m\u001b[39m*\u001b[39;49mkwargs)\n\u001b[1;32m   2326\u001b[0m \u001b[39mfinally\u001b[39;00m:\n\u001b[1;32m   2327\u001b[0m     \u001b[39mif\u001b[39;00m bbox_inches \u001b[39mand\u001b[39;00m restore_bbox:\n",
      "File \u001b[0;32m/opt/homebrew/anaconda3/lib/python3.9/site-packages/matplotlib/backend_bases.py:1648\u001b[0m, in \u001b[0;36m_check_savefig_extra_args.<locals>.wrapper\u001b[0;34m(*args, **kwargs)\u001b[0m\n\u001b[1;32m   1640\u001b[0m     _api\u001b[39m.\u001b[39mwarn_deprecated(\n\u001b[1;32m   1641\u001b[0m         \u001b[39m'\u001b[39m\u001b[39m3.3\u001b[39m\u001b[39m'\u001b[39m, name\u001b[39m=\u001b[39mname, removal\u001b[39m=\u001b[39m\u001b[39m'\u001b[39m\u001b[39m3.6\u001b[39m\u001b[39m'\u001b[39m,\n\u001b[1;32m   1642\u001b[0m         message\u001b[39m=\u001b[39m\u001b[39m'\u001b[39m\u001b[39m%(name)s\u001b[39;00m\u001b[39m() got unexpected keyword argument \u001b[39m\u001b[39m\"\u001b[39m\u001b[39m'\u001b[39m\n\u001b[1;32m   1643\u001b[0m                 \u001b[39m+\u001b[39m arg \u001b[39m+\u001b[39m \u001b[39m'\u001b[39m\u001b[39m\"\u001b[39m\u001b[39m which is no longer supported as of \u001b[39m\u001b[39m'\u001b[39m\n\u001b[1;32m   1644\u001b[0m                 \u001b[39m'\u001b[39m\u001b[39m%(since)s\u001b[39;00m\u001b[39m and will become an error \u001b[39m\u001b[39m'\u001b[39m\n\u001b[1;32m   1645\u001b[0m                 \u001b[39m'\u001b[39m\u001b[39m%(removal)s\u001b[39;00m\u001b[39m'\u001b[39m)\n\u001b[1;32m   1646\u001b[0m     kwargs\u001b[39m.\u001b[39mpop(arg)\n\u001b[0;32m-> 1648\u001b[0m \u001b[39mreturn\u001b[39;00m func(\u001b[39m*\u001b[39;49margs, \u001b[39m*\u001b[39;49m\u001b[39m*\u001b[39;49mkwargs)\n",
      "File \u001b[0;32m/opt/homebrew/anaconda3/lib/python3.9/site-packages/matplotlib/_api/deprecation.py:415\u001b[0m, in \u001b[0;36mdelete_parameter.<locals>.wrapper\u001b[0;34m(*inner_args, **inner_kwargs)\u001b[0m\n\u001b[1;32m    405\u001b[0m     deprecation_addendum \u001b[39m=\u001b[39m (\n\u001b[1;32m    406\u001b[0m         \u001b[39mf\u001b[39m\u001b[39m\"\u001b[39m\u001b[39mIf any parameter follows \u001b[39m\u001b[39m{\u001b[39;00mname\u001b[39m!r}\u001b[39;00m\u001b[39m, they should be passed as \u001b[39m\u001b[39m\"\u001b[39m\n\u001b[1;32m    407\u001b[0m         \u001b[39mf\u001b[39m\u001b[39m\"\u001b[39m\u001b[39mkeyword, not positionally.\u001b[39m\u001b[39m\"\u001b[39m)\n\u001b[1;32m    408\u001b[0m     warn_deprecated(\n\u001b[1;32m    409\u001b[0m         since,\n\u001b[1;32m    410\u001b[0m         name\u001b[39m=\u001b[39m\u001b[39mrepr\u001b[39m(name),\n\u001b[0;32m   (...)\u001b[0m\n\u001b[1;32m    413\u001b[0m                  \u001b[39melse\u001b[39;00m deprecation_addendum,\n\u001b[1;32m    414\u001b[0m         \u001b[39m*\u001b[39m\u001b[39m*\u001b[39mkwargs)\n\u001b[0;32m--> 415\u001b[0m \u001b[39mreturn\u001b[39;00m func(\u001b[39m*\u001b[39;49minner_args, \u001b[39m*\u001b[39;49m\u001b[39m*\u001b[39;49minner_kwargs)\n",
      "File \u001b[0;32m/opt/homebrew/anaconda3/lib/python3.9/site-packages/matplotlib/backends/backend_agg.py:541\u001b[0m, in \u001b[0;36mFigureCanvasAgg.print_png\u001b[0;34m(self, filename_or_obj, metadata, pil_kwargs, *args)\u001b[0m\n\u001b[1;32m    494\u001b[0m \u001b[39m\"\"\"\u001b[39;00m\n\u001b[1;32m    495\u001b[0m \u001b[39mWrite the figure to a PNG file.\u001b[39;00m\n\u001b[1;32m    496\u001b[0m \n\u001b[0;32m   (...)\u001b[0m\n\u001b[1;32m    538\u001b[0m \u001b[39m    *metadata*, including the default 'Software' key.\u001b[39;00m\n\u001b[1;32m    539\u001b[0m \u001b[39m\"\"\"\u001b[39;00m\n\u001b[1;32m    540\u001b[0m FigureCanvasAgg\u001b[39m.\u001b[39mdraw(\u001b[39mself\u001b[39m)\n\u001b[0;32m--> 541\u001b[0m mpl\u001b[39m.\u001b[39;49mimage\u001b[39m.\u001b[39;49mimsave(\n\u001b[1;32m    542\u001b[0m     filename_or_obj, \u001b[39mself\u001b[39;49m\u001b[39m.\u001b[39;49mbuffer_rgba(), \u001b[39mformat\u001b[39;49m\u001b[39m=\u001b[39;49m\u001b[39m\"\u001b[39;49m\u001b[39mpng\u001b[39;49m\u001b[39m\"\u001b[39;49m, origin\u001b[39m=\u001b[39;49m\u001b[39m\"\u001b[39;49m\u001b[39mupper\u001b[39;49m\u001b[39m\"\u001b[39;49m,\n\u001b[1;32m    543\u001b[0m     dpi\u001b[39m=\u001b[39;49m\u001b[39mself\u001b[39;49m\u001b[39m.\u001b[39;49mfigure\u001b[39m.\u001b[39;49mdpi, metadata\u001b[39m=\u001b[39;49mmetadata, pil_kwargs\u001b[39m=\u001b[39;49mpil_kwargs)\n",
      "File \u001b[0;32m/opt/homebrew/anaconda3/lib/python3.9/site-packages/matplotlib/image.py:1675\u001b[0m, in \u001b[0;36mimsave\u001b[0;34m(fname, arr, vmin, vmax, cmap, format, origin, dpi, metadata, pil_kwargs)\u001b[0m\n\u001b[1;32m   1673\u001b[0m pil_kwargs\u001b[39m.\u001b[39msetdefault(\u001b[39m\"\u001b[39m\u001b[39mformat\u001b[39m\u001b[39m\"\u001b[39m, \u001b[39mformat\u001b[39m)\n\u001b[1;32m   1674\u001b[0m pil_kwargs\u001b[39m.\u001b[39msetdefault(\u001b[39m\"\u001b[39m\u001b[39mdpi\u001b[39m\u001b[39m\"\u001b[39m, (dpi, dpi))\n\u001b[0;32m-> 1675\u001b[0m image\u001b[39m.\u001b[39;49msave(fname, \u001b[39m*\u001b[39;49m\u001b[39m*\u001b[39;49mpil_kwargs)\n",
      "File \u001b[0;32m/opt/homebrew/anaconda3/lib/python3.9/site-packages/PIL/Image.py:2317\u001b[0m, in \u001b[0;36mImage.save\u001b[0;34m(self, fp, format, **params)\u001b[0m\n\u001b[1;32m   2315\u001b[0m         fp \u001b[39m=\u001b[39m builtins\u001b[39m.\u001b[39mopen(filename, \u001b[39m\"\u001b[39m\u001b[39mr+b\u001b[39m\u001b[39m\"\u001b[39m)\n\u001b[1;32m   2316\u001b[0m     \u001b[39melse\u001b[39;00m:\n\u001b[0;32m-> 2317\u001b[0m         fp \u001b[39m=\u001b[39m builtins\u001b[39m.\u001b[39;49mopen(filename, \u001b[39m\"\u001b[39;49m\u001b[39mw+b\u001b[39;49m\u001b[39m\"\u001b[39;49m)\n\u001b[1;32m   2319\u001b[0m \u001b[39mtry\u001b[39;00m:\n\u001b[1;32m   2320\u001b[0m     save_handler(\u001b[39mself\u001b[39m, fp, filename)\n",
      "\u001b[0;31mFileNotFoundError\u001b[0m: [Errno 2] No such file or directory: '/usr/src/figs//output_probplot_364695.png'"
     ]
    },
    {
     "data": {
      "image/png": "[encoded data removed]",
      "text/plain": [
       "<Figure size 640x480 with 1 Axes>"
      ]
     },
     "metadata": {},
     "output_type": "display_data"
    }
   ],
   "source": [
    "param = {\n",
    "    'x': vis.df['AccZ']\n",
    "}\n",
    "vis.probplot(param)"
   ]
  },
  {
   "cell_type": "code",
   "execution_count": null,
   "metadata": {},
   "outputs": [],
   "source": [
    "param = {\n",
    "    'x': vis.df['GyroX']\n",
    "}\n",
    "vis.probplot(param)"
   ]
  },
  {
   "cell_type": "code",
   "execution_count": 22,
   "metadata": {},
   "outputs": [
    {
     "ename": "FileNotFoundError",
     "evalue": "[Errno 2] No such file or directory: '/usr/src/figs//output_probplot_856958.png'",
     "output_type": "error",
     "traceback": [
      "\u001b[0;31m---------------------------------------------------------------------------\u001b[0m",
      "\u001b[0;31mFileNotFoundError\u001b[0m                         Traceback (most recent call last)",
      "\u001b[1;32m/Users/salene/Documents/GitHub/driving-behavior-classification-prediction/notebooks/representative_testing.ipynb Cell 25\u001b[0m in \u001b[0;36m<cell line: 4>\u001b[0;34m()\u001b[0m\n\u001b[1;32m      <a href='vscode-notebook-cell:/Users/salene/Documents/GitHub/driving-behavior-classification-prediction/notebooks/representative_testing.ipynb#X32sZmlsZQ%3D%3D?line=0'>1</a>\u001b[0m param \u001b[39m=\u001b[39m {\n\u001b[1;32m      <a href='vscode-notebook-cell:/Users/salene/Documents/GitHub/driving-behavior-classification-prediction/notebooks/representative_testing.ipynb#X32sZmlsZQ%3D%3D?line=1'>2</a>\u001b[0m     \u001b[39m'\u001b[39m\u001b[39mx\u001b[39m\u001b[39m'\u001b[39m: vis\u001b[39m.\u001b[39mdf[\u001b[39m'\u001b[39m\u001b[39mGyroY\u001b[39m\u001b[39m'\u001b[39m]\n\u001b[1;32m      <a href='vscode-notebook-cell:/Users/salene/Documents/GitHub/driving-behavior-classification-prediction/notebooks/representative_testing.ipynb#X32sZmlsZQ%3D%3D?line=2'>3</a>\u001b[0m }\n\u001b[0;32m----> <a href='vscode-notebook-cell:/Users/salene/Documents/GitHub/driving-behavior-classification-prediction/notebooks/representative_testing.ipynb#X32sZmlsZQ%3D%3D?line=3'>4</a>\u001b[0m vis\u001b[39m.\u001b[39;49mprobplot(param)\n",
      "File \u001b[0;32m~/Documents/GitHub/driving-behavior-classification-prediction/scripts/visualization.py:75\u001b[0m, in \u001b[0;36mVisualization.probplot\u001b[0;34m(self, param)\u001b[0m\n\u001b[1;32m     73\u001b[0m     graph \u001b[39m=\u001b[39m scipy\u001b[39m.\u001b[39mstats\u001b[39m.\u001b[39mprobplot(plot\u001b[39m=\u001b[39mplt, \u001b[39m*\u001b[39m\u001b[39m*\u001b[39mparam)\n\u001b[1;32m     74\u001b[0m \u001b[39mif\u001b[39;00m \u001b[39mself\u001b[39m\u001b[39m.\u001b[39mconfig \u001b[39m!=\u001b[39m \u001b[39mNone\u001b[39;00m \u001b[39mand\u001b[39;00m \u001b[39mself\u001b[39m\u001b[39m.\u001b[39mconfig[\u001b[39m'\u001b[39m\u001b[39msave\u001b[39m\u001b[39m'\u001b[39m] \u001b[39m==\u001b[39m \u001b[39mTrue\u001b[39;00m:\n\u001b[0;32m---> 75\u001b[0m     \u001b[39mself\u001b[39;49m\u001b[39m.\u001b[39;49msave(graph, \u001b[39mself\u001b[39;49m\u001b[39m.\u001b[39;49mconfig[\u001b[39m'\u001b[39;49m\u001b[39moutput\u001b[39;49m\u001b[39m'\u001b[39;49m], \u001b[39m'\u001b[39;49m\u001b[39mprobplot\u001b[39;49m\u001b[39m'\u001b[39;49m)\n\u001b[1;32m     76\u001b[0m \u001b[39mreturn\u001b[39;00m graph\n",
      "File \u001b[0;32m~/Documents/GitHub/driving-behavior-classification-prediction/scripts/visualization.py:83\u001b[0m, in \u001b[0;36mVisualization.save\u001b[0;34m(self, plot, output, plot_name)\u001b[0m\n\u001b[1;32m     82\u001b[0m \u001b[39mdef\u001b[39;00m \u001b[39msave\u001b[39m(\u001b[39mself\u001b[39m, plot, output, plot_name):\n\u001b[0;32m---> 83\u001b[0m     plt\u001b[39m.\u001b[39;49msavefig(\u001b[39mf\u001b[39;49m\u001b[39m'\u001b[39;49m\u001b[39m{\u001b[39;49;00moutput\u001b[39m}\u001b[39;49;00m\u001b[39m/output_\u001b[39;49m\u001b[39m{\u001b[39;49;00mplot_name\u001b[39m}\u001b[39;49;00m\u001b[39m_\u001b[39;49m\u001b[39m{\u001b[39;49;00mrandom\u001b[39m.\u001b[39;49mrandint(\u001b[39m0\u001b[39;49m, \u001b[39m999999\u001b[39;49m)\u001b[39m}\u001b[39;49;00m\u001b[39m.png\u001b[39;49m\u001b[39m'\u001b[39;49m)\n",
      "File \u001b[0;32m/opt/homebrew/anaconda3/lib/python3.9/site-packages/matplotlib/pyplot.py:979\u001b[0m, in \u001b[0;36msavefig\u001b[0;34m(*args, **kwargs)\u001b[0m\n\u001b[1;32m    976\u001b[0m \u001b[39m@_copy_docstring_and_deprecators\u001b[39m(Figure\u001b[39m.\u001b[39msavefig)\n\u001b[1;32m    977\u001b[0m \u001b[39mdef\u001b[39;00m \u001b[39msavefig\u001b[39m(\u001b[39m*\u001b[39margs, \u001b[39m*\u001b[39m\u001b[39m*\u001b[39mkwargs):\n\u001b[1;32m    978\u001b[0m     fig \u001b[39m=\u001b[39m gcf()\n\u001b[0;32m--> 979\u001b[0m     res \u001b[39m=\u001b[39m fig\u001b[39m.\u001b[39;49msavefig(\u001b[39m*\u001b[39;49margs, \u001b[39m*\u001b[39;49m\u001b[39m*\u001b[39;49mkwargs)\n\u001b[1;32m    980\u001b[0m     fig\u001b[39m.\u001b[39mcanvas\u001b[39m.\u001b[39mdraw_idle()   \u001b[39m# need this if 'transparent=True' to reset colors\u001b[39;00m\n\u001b[1;32m    981\u001b[0m     \u001b[39mreturn\u001b[39;00m res\n",
      "File \u001b[0;32m/opt/homebrew/anaconda3/lib/python3.9/site-packages/matplotlib/figure.py:3046\u001b[0m, in \u001b[0;36mFigure.savefig\u001b[0;34m(self, fname, transparent, **kwargs)\u001b[0m\n\u001b[1;32m   3042\u001b[0m     \u001b[39mfor\u001b[39;00m ax \u001b[39min\u001b[39;00m \u001b[39mself\u001b[39m\u001b[39m.\u001b[39maxes:\n\u001b[1;32m   3043\u001b[0m         stack\u001b[39m.\u001b[39menter_context(\n\u001b[1;32m   3044\u001b[0m             ax\u001b[39m.\u001b[39mpatch\u001b[39m.\u001b[39m_cm_set(facecolor\u001b[39m=\u001b[39m\u001b[39m'\u001b[39m\u001b[39mnone\u001b[39m\u001b[39m'\u001b[39m, edgecolor\u001b[39m=\u001b[39m\u001b[39m'\u001b[39m\u001b[39mnone\u001b[39m\u001b[39m'\u001b[39m))\n\u001b[0;32m-> 3046\u001b[0m \u001b[39mself\u001b[39;49m\u001b[39m.\u001b[39;49mcanvas\u001b[39m.\u001b[39;49mprint_figure(fname, \u001b[39m*\u001b[39;49m\u001b[39m*\u001b[39;49mkwargs)\n",
      "File \u001b[0;32m/opt/homebrew/anaconda3/lib/python3.9/site-packages/matplotlib/backend_bases.py:2319\u001b[0m, in \u001b[0;36mFigureCanvasBase.print_figure\u001b[0;34m(self, filename, dpi, facecolor, edgecolor, orientation, format, bbox_inches, pad_inches, bbox_extra_artists, backend, **kwargs)\u001b[0m\n\u001b[1;32m   2315\u001b[0m \u001b[39mtry\u001b[39;00m:\n\u001b[1;32m   2316\u001b[0m     \u001b[39m# _get_renderer may change the figure dpi (as vector formats\u001b[39;00m\n\u001b[1;32m   2317\u001b[0m     \u001b[39m# force the figure dpi to 72), so we need to set it again here.\u001b[39;00m\n\u001b[1;32m   2318\u001b[0m     \u001b[39mwith\u001b[39;00m cbook\u001b[39m.\u001b[39m_setattr_cm(\u001b[39mself\u001b[39m\u001b[39m.\u001b[39mfigure, dpi\u001b[39m=\u001b[39mdpi):\n\u001b[0;32m-> 2319\u001b[0m         result \u001b[39m=\u001b[39m print_method(\n\u001b[1;32m   2320\u001b[0m             filename,\n\u001b[1;32m   2321\u001b[0m             facecolor\u001b[39m=\u001b[39;49mfacecolor,\n\u001b[1;32m   2322\u001b[0m             edgecolor\u001b[39m=\u001b[39;49medgecolor,\n\u001b[1;32m   2323\u001b[0m             orientation\u001b[39m=\u001b[39;49morientation,\n\u001b[1;32m   2324\u001b[0m             bbox_inches_restore\u001b[39m=\u001b[39;49m_bbox_inches_restore,\n\u001b[1;32m   2325\u001b[0m             \u001b[39m*\u001b[39;49m\u001b[39m*\u001b[39;49mkwargs)\n\u001b[1;32m   2326\u001b[0m \u001b[39mfinally\u001b[39;00m:\n\u001b[1;32m   2327\u001b[0m     \u001b[39mif\u001b[39;00m bbox_inches \u001b[39mand\u001b[39;00m restore_bbox:\n",
      "File \u001b[0;32m/opt/homebrew/anaconda3/lib/python3.9/site-packages/matplotlib/backend_bases.py:1648\u001b[0m, in \u001b[0;36m_check_savefig_extra_args.<locals>.wrapper\u001b[0;34m(*args, **kwargs)\u001b[0m\n\u001b[1;32m   1640\u001b[0m     _api\u001b[39m.\u001b[39mwarn_deprecated(\n\u001b[1;32m   1641\u001b[0m         \u001b[39m'\u001b[39m\u001b[39m3.3\u001b[39m\u001b[39m'\u001b[39m, name\u001b[39m=\u001b[39mname, removal\u001b[39m=\u001b[39m\u001b[39m'\u001b[39m\u001b[39m3.6\u001b[39m\u001b[39m'\u001b[39m,\n\u001b[1;32m   1642\u001b[0m         message\u001b[39m=\u001b[39m\u001b[39m'\u001b[39m\u001b[39m%(name)s\u001b[39;00m\u001b[39m() got unexpected keyword argument \u001b[39m\u001b[39m\"\u001b[39m\u001b[39m'\u001b[39m\n\u001b[1;32m   1643\u001b[0m                 \u001b[39m+\u001b[39m arg \u001b[39m+\u001b[39m \u001b[39m'\u001b[39m\u001b[39m\"\u001b[39m\u001b[39m which is no longer supported as of \u001b[39m\u001b[39m'\u001b[39m\n\u001b[1;32m   1644\u001b[0m                 \u001b[39m'\u001b[39m\u001b[39m%(since)s\u001b[39;00m\u001b[39m and will become an error \u001b[39m\u001b[39m'\u001b[39m\n\u001b[1;32m   1645\u001b[0m                 \u001b[39m'\u001b[39m\u001b[39m%(removal)s\u001b[39;00m\u001b[39m'\u001b[39m)\n\u001b[1;32m   1646\u001b[0m     kwargs\u001b[39m.\u001b[39mpop(arg)\n\u001b[0;32m-> 1648\u001b[0m \u001b[39mreturn\u001b[39;00m func(\u001b[39m*\u001b[39;49margs, \u001b[39m*\u001b[39;49m\u001b[39m*\u001b[39;49mkwargs)\n",
      "File \u001b[0;32m/opt/homebrew/anaconda3/lib/python3.9/site-packages/matplotlib/_api/deprecation.py:415\u001b[0m, in \u001b[0;36mdelete_parameter.<locals>.wrapper\u001b[0;34m(*inner_args, **inner_kwargs)\u001b[0m\n\u001b[1;32m    405\u001b[0m     deprecation_addendum \u001b[39m=\u001b[39m (\n\u001b[1;32m    406\u001b[0m         \u001b[39mf\u001b[39m\u001b[39m\"\u001b[39m\u001b[39mIf any parameter follows \u001b[39m\u001b[39m{\u001b[39;00mname\u001b[39m!r}\u001b[39;00m\u001b[39m, they should be passed as \u001b[39m\u001b[39m\"\u001b[39m\n\u001b[1;32m    407\u001b[0m         \u001b[39mf\u001b[39m\u001b[39m\"\u001b[39m\u001b[39mkeyword, not positionally.\u001b[39m\u001b[39m\"\u001b[39m)\n\u001b[1;32m    408\u001b[0m     warn_deprecated(\n\u001b[1;32m    409\u001b[0m         since,\n\u001b[1;32m    410\u001b[0m         name\u001b[39m=\u001b[39m\u001b[39mrepr\u001b[39m(name),\n\u001b[0;32m   (...)\u001b[0m\n\u001b[1;32m    413\u001b[0m                  \u001b[39melse\u001b[39;00m deprecation_addendum,\n\u001b[1;32m    414\u001b[0m         \u001b[39m*\u001b[39m\u001b[39m*\u001b[39mkwargs)\n\u001b[0;32m--> 415\u001b[0m \u001b[39mreturn\u001b[39;00m func(\u001b[39m*\u001b[39;49minner_args, \u001b[39m*\u001b[39;49m\u001b[39m*\u001b[39;49minner_kwargs)\n",
      "File \u001b[0;32m/opt/homebrew/anaconda3/lib/python3.9/site-packages/matplotlib/backends/backend_agg.py:541\u001b[0m, in \u001b[0;36mFigureCanvasAgg.print_png\u001b[0;34m(self, filename_or_obj, metadata, pil_kwargs, *args)\u001b[0m\n\u001b[1;32m    494\u001b[0m \u001b[39m\"\"\"\u001b[39;00m\n\u001b[1;32m    495\u001b[0m \u001b[39mWrite the figure to a PNG file.\u001b[39;00m\n\u001b[1;32m    496\u001b[0m \n\u001b[0;32m   (...)\u001b[0m\n\u001b[1;32m    538\u001b[0m \u001b[39m    *metadata*, including the default 'Software' key.\u001b[39;00m\n\u001b[1;32m    539\u001b[0m \u001b[39m\"\"\"\u001b[39;00m\n\u001b[1;32m    540\u001b[0m FigureCanvasAgg\u001b[39m.\u001b[39mdraw(\u001b[39mself\u001b[39m)\n\u001b[0;32m--> 541\u001b[0m mpl\u001b[39m.\u001b[39;49mimage\u001b[39m.\u001b[39;49mimsave(\n\u001b[1;32m    542\u001b[0m     filename_or_obj, \u001b[39mself\u001b[39;49m\u001b[39m.\u001b[39;49mbuffer_rgba(), \u001b[39mformat\u001b[39;49m\u001b[39m=\u001b[39;49m\u001b[39m\"\u001b[39;49m\u001b[39mpng\u001b[39;49m\u001b[39m\"\u001b[39;49m, origin\u001b[39m=\u001b[39;49m\u001b[39m\"\u001b[39;49m\u001b[39mupper\u001b[39;49m\u001b[39m\"\u001b[39;49m,\n\u001b[1;32m    543\u001b[0m     dpi\u001b[39m=\u001b[39;49m\u001b[39mself\u001b[39;49m\u001b[39m.\u001b[39;49mfigure\u001b[39m.\u001b[39;49mdpi, metadata\u001b[39m=\u001b[39;49mmetadata, pil_kwargs\u001b[39m=\u001b[39;49mpil_kwargs)\n",
      "File \u001b[0;32m/opt/homebrew/anaconda3/lib/python3.9/site-packages/matplotlib/image.py:1675\u001b[0m, in \u001b[0;36mimsave\u001b[0;34m(fname, arr, vmin, vmax, cmap, format, origin, dpi, metadata, pil_kwargs)\u001b[0m\n\u001b[1;32m   1673\u001b[0m pil_kwargs\u001b[39m.\u001b[39msetdefault(\u001b[39m\"\u001b[39m\u001b[39mformat\u001b[39m\u001b[39m\"\u001b[39m, \u001b[39mformat\u001b[39m)\n\u001b[1;32m   1674\u001b[0m pil_kwargs\u001b[39m.\u001b[39msetdefault(\u001b[39m\"\u001b[39m\u001b[39mdpi\u001b[39m\u001b[39m\"\u001b[39m, (dpi, dpi))\n\u001b[0;32m-> 1675\u001b[0m image\u001b[39m.\u001b[39;49msave(fname, \u001b[39m*\u001b[39;49m\u001b[39m*\u001b[39;49mpil_kwargs)\n",
      "File \u001b[0;32m/opt/homebrew/anaconda3/lib/python3.9/site-packages/PIL/Image.py:2317\u001b[0m, in \u001b[0;36mImage.save\u001b[0;34m(self, fp, format, **params)\u001b[0m\n\u001b[1;32m   2315\u001b[0m         fp \u001b[39m=\u001b[39m builtins\u001b[39m.\u001b[39mopen(filename, \u001b[39m\"\u001b[39m\u001b[39mr+b\u001b[39m\u001b[39m\"\u001b[39m)\n\u001b[1;32m   2316\u001b[0m     \u001b[39melse\u001b[39;00m:\n\u001b[0;32m-> 2317\u001b[0m         fp \u001b[39m=\u001b[39m builtins\u001b[39m.\u001b[39;49mopen(filename, \u001b[39m\"\u001b[39;49m\u001b[39mw+b\u001b[39;49m\u001b[39m\"\u001b[39;49m)\n\u001b[1;32m   2319\u001b[0m \u001b[39mtry\u001b[39;00m:\n\u001b[1;32m   2320\u001b[0m     save_handler(\u001b[39mself\u001b[39m, fp, filename)\n",
      "\u001b[0;31mFileNotFoundError\u001b[0m: [Errno 2] No such file or directory: '/usr/src/figs//output_probplot_856958.png'"
     ]
    },
    {
     "data": {
      "image/png": "[encoded data removed]",
      "text/plain": [
       "<Figure size 640x480 with 1 Axes>"
      ]
     },
     "metadata": {},
     "output_type": "display_data"
    }
   ],
   "source": [
    "param = {\n",
    "    'x': vis.df['GyroY']\n",
    "}\n",
    "vis.probplot(param)"
   ]
  },
  {
   "cell_type": "code",
   "execution_count": null,
   "metadata": {},
   "outputs": [],
   "source": [
    "param = {\n",
    "    'x': vis.df['GyroZ']\n",
    "}\n",
    "vis.probplot(param)"
   ]
  },
  {
   "cell_type": "code",
   "execution_count": null,
   "metadata": {},
   "outputs": [],
   "source": [
    "param = {\n",
    "    'y': vis.df['AccX'],\n",
    "    'x': vis.df['Class']\n",
    "}\n",
    "vis.boxplot(param)"
   ]
  },
  {
   "cell_type": "code",
   "execution_count": null,
   "metadata": {},
   "outputs": [],
   "source": [
    "param = {\n",
    "    'y': vis.df['AccY'],\n",
    "    'x': vis.df['Class']\n",
    "}\n",
    "vis.boxplot(param)"
   ]
  },
  {
   "cell_type": "code",
   "execution_count": null,
   "metadata": {},
   "outputs": [],
   "source": [
    "param = {\n",
    "    'y': vis.df['AccZ'],\n",
    "    'x': vis.df['Class']\n",
    "}\n",
    "vis.boxplot(param)"
   ]
  },
  {
   "cell_type": "code",
   "execution_count": null,
   "metadata": {},
   "outputs": [],
   "source": [
    "param = {\n",
    "    'y': vis.df['GyroX'],\n",
    "    'x': vis.df['Class']\n",
    "}\n",
    "vis.boxplot(param)"
   ]
  },
  {
   "cell_type": "code",
   "execution_count": null,
   "metadata": {},
   "outputs": [],
   "source": [
    "param = {\n",
    "    'y': vis.df['GyroY'],\n",
    "    'x': vis.df['Class']\n",
    "}\n",
    "vis.boxplot(param)"
   ]
  },
  {
   "cell_type": "code",
   "execution_count": null,
   "metadata": {},
   "outputs": [],
   "source": [
    "param = {\n",
    "    'y': vis.df['GyroZ'],\n",
    "    'x': vis.df['Class']\n",
    "}\n",
    "vis.boxplot(param)"
   ]
  },
  {
   "cell_type": "code",
   "execution_count": null,
   "metadata": {},
   "outputs": [],
   "source": [
    "param = {\n",
    "    'x': vis.df['AccX'],\n",
    "}\n",
    "vis.distribution(param, graph_type='dist')"
   ]
  },
  {
   "cell_type": "code",
   "execution_count": null,
   "metadata": {},
   "outputs": [],
   "source": [
    "param = {\n",
    "    'x': vis.df['AccY'],\n",
    "}\n",
    "vis.distribution(param, graph_type='dist')"
   ]
  },
  {
   "cell_type": "code",
   "execution_count": null,
   "metadata": {},
   "outputs": [],
   "source": [
    "param = {\n",
    "    'x': vis.df['AccZ'],\n",
    "}\n",
    "vis.distribution(param, graph_type='dist')"
   ]
  },
  {
   "cell_type": "code",
   "execution_count": null,
   "metadata": {},
   "outputs": [],
   "source": [
    "param = {\n",
    "    'x': vis.df['GyroX'],\n",
    "}\n",
    "vis.distribution(param, graph_type='dist')"
   ]
  },
  {
   "cell_type": "code",
   "execution_count": null,
   "metadata": {},
   "outputs": [],
   "source": [
    "param = {\n",
    "    'x': vis.df['GyroY'],\n",
    "}\n",
    "vis.distribution(param, graph_type='dist')"
   ]
  },
  {
   "cell_type": "code",
   "execution_count": null,
   "metadata": {},
   "outputs": [],
   "source": [
    "param = {\n",
    "    'x': vis.df['GyroZ'],\n",
    "}\n",
    "vis.distribution(param, graph_type='dist')"
   ]
  },
  {
   "cell_type": "code",
   "execution_count": null,
   "metadata": {},
   "outputs": [],
   "source": [
    "param = {\n",
    "    'x' : vis.df['Class']\n",
    "}\n",
    "print(vis.histogram(param))"
   ]
  },
  {
   "cell_type": "code",
   "execution_count": null,
   "metadata": {},
   "outputs": [],
   "source": [
    "param = {\n",
    "    'x' : vis.df['AccX']\n",
    "}\n",
    "print(vis.histogram(param))"
   ]
  },
  {
   "cell_type": "code",
   "execution_count": null,
   "metadata": {},
   "outputs": [],
   "source": [
    "print(vis.pairplot())"
   ]
  },
  {
   "cell_type": "markdown",
   "metadata": {},
   "source": [
    "# Outliers detection"
   ]
  },
  {
   "cell_type": "code",
   "execution_count": null,
   "metadata": {},
   "outputs": [],
   "source": [
    "df = pd.read_csv('/usr/src/datasets/driving-behavior/train_motion_data.csv')\n",
    "df['Class'] = df['Class'].astype('category').cat.codes"
   ]
  },
  {
   "cell_type": "code",
   "execution_count": null,
   "metadata": {},
   "outputs": [],
   "source": [
    "from sklearn.ensemble import IsolationForest\n",
    "\n",
    "model = IsolationForest(contamination=0.1)\n",
    "model.fit(df)"
   ]
  },
  {
   "cell_type": "code",
   "execution_count": null,
   "metadata": {},
   "outputs": [],
   "source": [
    "scores = model.decision_function(df)"
   ]
  },
  {
   "cell_type": "code",
   "execution_count": null,
   "metadata": {},
   "outputs": [],
   "source": [
    "threshold = np.percentile(scores, 5)"
   ]
  },
  {
   "cell_type": "code",
   "execution_count": null,
   "metadata": {},
   "outputs": [],
   "source": [
    "df['outlier'] = np.where(scores < threshold, 1, 0)"
   ]
  },
  {
   "cell_type": "code",
   "execution_count": null,
   "metadata": {},
   "outputs": [],
   "source": [
    "df"
   ]
  },
  {
   "cell_type": "code",
   "execution_count": null,
   "metadata": {},
   "outputs": [],
   "source": [
    "df.loc[df['outlier'] > 0]"
   ]
  },
  {
   "cell_type": "code",
   "execution_count": null,
   "metadata": {},
   "outputs": [],
   "source": []
  }
 ],
 "metadata": {
  "kernelspec": {
   "display_name": "Python 3 (ipykernel)",
   "language": "python",
   "name": "python3"
  },
  "language_info": {
   "codemirror_mode": {
    "name": "ipython",
    "version": 3
   },
   "file_extension": ".py",
   "mimetype": "text/x-python",
   "name": "python",
   "nbconvert_exporter": "python",
   "pygments_lexer": "ipython3",
   "version": "3.9.13"
  },
  "vscode": {
   "interpreter": {
    "hash": "38cca0c38332a56087b24af0bc80247f4fced29cb4f7f437d91dc159adec9c4e"
   }
  }
 },
 "nbformat": 4,
 "nbformat_minor": 4
}
